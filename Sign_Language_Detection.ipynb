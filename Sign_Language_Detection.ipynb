{
  "nbformat": 4,
  "nbformat_minor": 0,
  "metadata": {
    "colab": {
      "name": "Sign_Language_Detection(TPU).ipynb",
      "provenance": [],
      "collapsed_sections": [],
      "machine_shape": "hm",
      "authorship_tag": "ABX9TyNOgkgvj3YGzczraZH1fRDx"
    },
    "kernelspec": {
      "name": "python3",
      "display_name": "Python 3"
    },
    "accelerator": "GPU"
  },
  "cells": [
    {
      "cell_type": "code",
      "metadata": {
        "id": "xPuK8r-GBsnz",
        "colab_type": "code",
        "colab": {}
      },
      "source": [
        ""
      ],
      "execution_count": 0,
      "outputs": []
    },
    {
      "cell_type": "code",
      "metadata": {
        "id": "lrpgqVw00rKc",
        "colab_type": "code",
        "colab": {}
      },
      "source": [
        "import numpy as np\n",
        "import matplotlib.pyplot as plt\n",
        "import pandas as pd"
      ],
      "execution_count": 0,
      "outputs": []
    },
    {
      "cell_type": "code",
      "metadata": {
        "id": "mSGxD01ukWW3",
        "colab_type": "code",
        "colab": {}
      },
      "source": [
        "import pickle\n",
        "import cv2"
      ],
      "execution_count": 0,
      "outputs": []
    },
    {
      "cell_type": "code",
      "metadata": {
        "id": "RNZ_Qepl2i1H",
        "colab_type": "code",
        "outputId": "1b700ed0-7de0-4952-d4c6-56598caa3206",
        "colab": {
          "base_uri": "https://localhost:8080/",
          "height": 34
        }
      },
      "source": [
        "%tensorflow_version 2.x"
      ],
      "execution_count": 0,
      "outputs": [
        {
          "output_type": "stream",
          "text": [
            "TensorFlow 2.x selected.\n"
          ],
          "name": "stdout"
        }
      ]
    },
    {
      "cell_type": "code",
      "metadata": {
        "id": "FNTX0BAW2iq0",
        "colab_type": "code",
        "outputId": "6619987a-1b33-436e-e895-19d6d86e76f7",
        "colab": {
          "base_uri": "https://localhost:8080/",
          "height": 34
        }
      },
      "source": [
        "import tensorflow as tf\n",
        "tf.__version__"
      ],
      "execution_count": 0,
      "outputs": [
        {
          "output_type": "execute_result",
          "data": {
            "text/plain": [
              "'2.1.0'"
            ]
          },
          "metadata": {
            "tags": []
          },
          "execution_count": 4
        }
      ]
    },
    {
      "cell_type": "code",
      "metadata": {
        "id": "8tBoITjKwnTY",
        "colab_type": "code",
        "outputId": "55f0bfa7-45af-44cf-eacb-01f1f6ff49a7",
        "colab": {
          "base_uri": "https://localhost:8080/",
          "height": 34
        }
      },
      "source": [
        "from google.colab import drive\n",
        "drive.mount('/content/gdrive')"
      ],
      "execution_count": 0,
      "outputs": [
        {
          "output_type": "stream",
          "text": [
            "Drive already mounted at /content/gdrive; to attempt to forcibly remount, call drive.mount(\"/content/gdrive\", force_remount=True).\n"
          ],
          "name": "stdout"
        }
      ]
    },
    {
      "cell_type": "code",
      "metadata": {
        "id": "KFl1DkTMw1Ae",
        "colab_type": "code",
        "colab": {}
      },
      "source": [
        "with open('/content/gdrive/My Drive/Image Data/image_dict_train_small.pickle', 'rb') as f:\n",
        "  image_data = pickle.load(f)"
      ],
      "execution_count": 0,
      "outputs": []
    },
    {
      "cell_type": "code",
      "metadata": {
        "id": "gwo1c0jddJdv",
        "colab_type": "code",
        "colab": {}
      },
      "source": [
        "with open('/content/gdrive/My Drive/Image Data/image_label.pickle', 'rb') as f:\n",
        "  y = pickle.load(f)"
      ],
      "execution_count": 0,
      "outputs": []
    },
    {
      "cell_type": "code",
      "metadata": {
        "id": "S1Tdywz-lkzl",
        "colab_type": "code",
        "colab": {}
      },
      "source": [
        "## drive.flush_and_unmount() # colab is mounted"
      ],
      "execution_count": 0,
      "outputs": []
    },
    {
      "cell_type": "code",
      "metadata": {
        "id": "BOMXeXAe_trI",
        "colab_type": "code",
        "colab": {}
      },
      "source": [
        "image_data = image_data[\"image_data\"]"
      ],
      "execution_count": 0,
      "outputs": []
    },
    {
      "cell_type": "code",
      "metadata": {
        "id": "OBef171sJVkG",
        "colab_type": "code",
        "colab": {}
      },
      "source": [
        "# image_data = image_data[:3000]\n",
        "# y = y[:3000]"
      ],
      "execution_count": 0,
      "outputs": []
    },
    {
      "cell_type": "code",
      "metadata": {
        "id": "AQH4lv-E5hyW",
        "colab_type": "code",
        "outputId": "c3b62a8d-5a9a-46a3-828a-98fd53895eb5",
        "colab": {
          "base_uri": "https://localhost:8080/",
          "height": 34
        }
      },
      "source": [
        "type(image_data)"
      ],
      "execution_count": 0,
      "outputs": [
        {
          "output_type": "execute_result",
          "data": {
            "text/plain": [
              "numpy.ndarray"
            ]
          },
          "metadata": {
            "tags": []
          },
          "execution_count": 8
        }
      ]
    },
    {
      "cell_type": "code",
      "metadata": {
        "id": "85OwlWv35hnz",
        "colab_type": "code",
        "outputId": "5d9cc4f6-84be-44a7-cb1c-44582bd32186",
        "colab": {
          "base_uri": "https://localhost:8080/",
          "height": 34
        }
      },
      "source": [
        "image_data.shape"
      ],
      "execution_count": 0,
      "outputs": [
        {
          "output_type": "execute_result",
          "data": {
            "text/plain": [
              "(29000, 200, 200, 3)"
            ]
          },
          "metadata": {
            "tags": []
          },
          "execution_count": 11
        }
      ]
    },
    {
      "cell_type": "code",
      "metadata": {
        "id": "EQyIl0h7doDC",
        "colab_type": "code",
        "outputId": "9c71ed7e-f26c-448b-a085-37050240a692",
        "colab": {
          "base_uri": "https://localhost:8080/",
          "height": 34
        }
      },
      "source": [
        "y"
      ],
      "execution_count": 0,
      "outputs": [
        {
          "output_type": "execute_result",
          "data": {
            "text/plain": [
              "array(['A', 'A', 'A', ..., 'C', 'C', 'C'], dtype='<U7')"
            ]
          },
          "metadata": {
            "tags": []
          },
          "execution_count": 16
        }
      ]
    },
    {
      "cell_type": "code",
      "metadata": {
        "id": "g8-sJsqm6mnL",
        "colab_type": "code",
        "colab": {}
      },
      "source": [
        "y[5000] # 'E'"
      ],
      "execution_count": 0,
      "outputs": []
    },
    {
      "cell_type": "code",
      "metadata": {
        "id": "GDil213pJpf6",
        "colab_type": "code",
        "outputId": "a221e149-647c-4913-d65a-abada573d01e",
        "colab": {
          "base_uri": "https://localhost:8080/",
          "height": 51
        }
      },
      "source": [
        "print(len(image_data))\n",
        "print(len(y))"
      ],
      "execution_count": 0,
      "outputs": [
        {
          "output_type": "stream",
          "text": [
            "29000\n",
            "29000\n"
          ],
          "name": "stdout"
        }
      ]
    },
    {
      "cell_type": "code",
      "metadata": {
        "id": "ikeNM1hHUbo-",
        "colab_type": "code",
        "colab": {}
      },
      "source": [
        "# To see the total variables which initiallized within the notebook\n",
        "%who # To see only var name\n",
        "%whos # To see full dec of var"
      ],
      "execution_count": 0,
      "outputs": []
    },
    {
      "cell_type": "code",
      "metadata": {
        "id": "NULl1mLVbuKf",
        "colab_type": "code",
        "colab": {}
      },
      "source": [
        "X = []\n",
        "for i in range(len(image_data)):\n",
        "  img = (cv2.resize(image_data[i], (224, 224), interpolation = cv2.INTER_AREA))/255\n",
        "  X.append(img)"
      ],
      "execution_count": 0,
      "outputs": []
    },
    {
      "cell_type": "code",
      "metadata": {
        "colab_type": "code",
        "id": "J2bxyS3HpX7Y",
        "colab": {}
      },
      "source": [
        "X = np.asarray(X)"
      ],
      "execution_count": 0,
      "outputs": []
    },
    {
      "cell_type": "code",
      "metadata": {
        "id": "d1siL5b5wi-1",
        "colab_type": "code",
        "colab": {}
      },
      "source": [
        "X.shape"
      ],
      "execution_count": 0,
      "outputs": []
    },
    {
      "cell_type": "code",
      "metadata": {
        "id": "5oRYxNhAUarn",
        "colab_type": "code",
        "colab": {}
      },
      "source": [
        "from sklearn.preprocessing import LabelEncoder\n",
        "lab = LabelEncoder()\n",
        "y = lab.fit_transform(y)"
      ],
      "execution_count": 0,
      "outputs": []
    },
    {
      "cell_type": "code",
      "metadata": {
        "id": "fPkoTlh7UaXb",
        "colab_type": "code",
        "colab": {}
      },
      "source": [
        "images_names = lab.classes_"
      ],
      "execution_count": 0,
      "outputs": []
    },
    {
      "cell_type": "code",
      "metadata": {
        "id": "O_7D0dC0LPgU",
        "colab_type": "code",
        "colab": {}
      },
      "source": [
        "from sklearn.model_selection import train_test_split\n",
        "X_train, X_test, y_train, y_test = train_test_split(X, y, shuffle = True, stratify = y)"
      ],
      "execution_count": 0,
      "outputs": []
    },
    {
      "cell_type": "code",
      "metadata": {
        "id": "PYIpK_G0Lftp",
        "colab_type": "code",
        "colab": {}
      },
      "source": [
        "y_train = pd.get_dummies(y_train)\n",
        "y_test = pd.get_dummies(y_test)"
      ],
      "execution_count": 0,
      "outputs": []
    },
    {
      "cell_type": "code",
      "metadata": {
        "id": "i880hHeKLfnp",
        "colab_type": "code",
        "colab": {}
      },
      "source": [
        "y_train"
      ],
      "execution_count": 0,
      "outputs": []
    },
    {
      "cell_type": "code",
      "metadata": {
        "id": "0zjuNz-wLiDw",
        "colab_type": "code",
        "colab": {}
      },
      "source": [
        ""
      ],
      "execution_count": 0,
      "outputs": []
    },
    {
      "cell_type": "code",
      "metadata": {
        "id": "ELF07Ll00v1g",
        "colab_type": "code",
        "colab": {}
      },
      "source": [
        "from tensorflow.keras.applications.mobilenet_v2 import MobileNetV2"
      ],
      "execution_count": 0,
      "outputs": []
    },
    {
      "cell_type": "code",
      "metadata": {
        "id": "bJUAjFrz4dgg",
        "colab_type": "code",
        "outputId": "6c3aa5d3-6005-4a1c-c90f-470124c0a958",
        "colab": {
          "base_uri": "https://localhost:8080/",
          "height": 71
        }
      },
      "source": [
        "base_model = MobileNetV2(weights = \"imagenet\", include_top = False)"
      ],
      "execution_count": 0,
      "outputs": [
        {
          "output_type": "stream",
          "text": [
            "/tensorflow-2.1.0/python3.6/keras_applications/mobilenet_v2.py:294: UserWarning: `input_shape` is undefined or non-square, or `rows` is not in [96, 128, 160, 192, 224]. Weights for input shape (224, 224) will be loaded as the default.\n",
            "  warnings.warn('`input_shape` is undefined or non-square, '\n"
          ],
          "name": "stderr"
        }
      ]
    },
    {
      "cell_type": "code",
      "metadata": {
        "id": "QXhh3lI8LTFl",
        "colab_type": "code",
        "outputId": "194f7635-3d83-45fe-8c82-9b52f39859eb",
        "colab": {
          "base_uri": "https://localhost:8080/",
          "height": 34
        }
      },
      "source": [
        "X_train = base_model.predict(X_train)\n",
        "X_train.shape"
      ],
      "execution_count": 0,
      "outputs": [
        {
          "output_type": "execute_result",
          "data": {
            "text/plain": [
              "(2250, 7, 7, 1280)"
            ]
          },
          "metadata": {
            "tags": []
          },
          "execution_count": 28
        }
      ]
    },
    {
      "cell_type": "code",
      "metadata": {
        "id": "PIGUN-k9LS91",
        "colab_type": "code",
        "outputId": "ec232628-4c31-4811-d2d3-3f9dc05be4b9",
        "colab": {
          "base_uri": "https://localhost:8080/",
          "height": 34
        }
      },
      "source": [
        "X_test = base_model.predict(X_test)\n",
        "X_test.shape"
      ],
      "execution_count": 0,
      "outputs": [
        {
          "output_type": "execute_result",
          "data": {
            "text/plain": [
              "(750, 7, 7, 1280)"
            ]
          },
          "metadata": {
            "tags": []
          },
          "execution_count": 29
        }
      ]
    },
    {
      "cell_type": "code",
      "metadata": {
        "id": "hz-P_WUrLS1g",
        "colab_type": "code",
        "colab": {}
      },
      "source": [
        "X_train = X_train.reshape(X_train.shape[0], 7*7*1280)\n",
        "X_test = X_test.reshape(X_test.shape[0], 7*7*1280)"
      ],
      "execution_count": 0,
      "outputs": []
    },
    {
      "cell_type": "code",
      "metadata": {
        "id": "1COsbTf-6hDW",
        "colab_type": "code",
        "colab": {}
      },
      "source": [
        "from sklearn.preprocessing import MinMaxScaler\n",
        "mm = MinMaxScaler()"
      ],
      "execution_count": 0,
      "outputs": []
    },
    {
      "cell_type": "code",
      "metadata": {
        "id": "TNRXatHdRVpk",
        "colab_type": "code",
        "colab": {}
      },
      "source": [
        "X_train = mm.fit_transform(X_train)\n",
        "X_test = mm.fit_transform(X_test)"
      ],
      "execution_count": 0,
      "outputs": []
    },
    {
      "cell_type": "code",
      "metadata": {
        "id": "XpcqJeZm4dZw",
        "colab_type": "code",
        "outputId": "a17d3872-16f0-43a0-b072-e847bf4b6134",
        "colab": {
          "base_uri": "https://localhost:8080/",
          "height": 34
        }
      },
      "source": [
        "X_test.shape"
      ],
      "execution_count": 0,
      "outputs": [
        {
          "output_type": "execute_result",
          "data": {
            "text/plain": [
              "(750, 62720)"
            ]
          },
          "metadata": {
            "tags": []
          },
          "execution_count": 33
        }
      ]
    },
    {
      "cell_type": "code",
      "metadata": {
        "id": "ZJrK111E4dQp",
        "colab_type": "code",
        "colab": {}
      },
      "source": [
        ""
      ],
      "execution_count": 0,
      "outputs": []
    },
    {
      "cell_type": "code",
      "metadata": {
        "id": "wmfnvy7X4dJn",
        "colab_type": "code",
        "colab": {}
      },
      "source": [
        "from tensorflow.keras import models\n",
        "from tensorflow.keras.layers import Dense, Dropout"
      ],
      "execution_count": 0,
      "outputs": []
    },
    {
      "cell_type": "code",
      "metadata": {
        "id": "4anwYKSoROsO",
        "colab_type": "code",
        "colab": {}
      },
      "source": [
        "model = models.Sequential()\n",
        "model.add(Dense(1024, activation='relu', input_shape=(62720,)))\n",
        "model.add(Dropout(0.5))\n",
        "model.add(Dense(512, activation='relu'))\n",
        "model.add(Dropout(0.5))\n",
        "model.add(Dense(256, activation='relu'))\n",
        "model.add(Dropout(0.5))\n",
        "model.add(Dense(128, activation='relu'))\n",
        "model.add(Dropout(0.5))\n",
        "model.add(Dense(3, activation='softmax'))\n"
      ],
      "execution_count": 0,
      "outputs": []
    },
    {
      "cell_type": "code",
      "metadata": {
        "id": "FwTfQD3oP3H1",
        "colab_type": "code",
        "colab": {}
      },
      "source": [
        "from tensorflow.keras.callbacks import ModelCheckpoint\n",
        "mcp_save = ModelCheckpoint('weight.hdf5', save_best_only=True, monitor='val_loss', mode='min')"
      ],
      "execution_count": 0,
      "outputs": []
    },
    {
      "cell_type": "code",
      "metadata": {
        "id": "9h_LHc9SPnwx",
        "colab_type": "code",
        "colab": {}
      },
      "source": [
        "model.compile(loss='categorical_crossentropy',optimizer='Adam',metrics=['accuracy'])"
      ],
      "execution_count": 0,
      "outputs": []
    },
    {
      "cell_type": "code",
      "metadata": {
        "id": "kfX7f2P_PntU",
        "colab_type": "code",
        "outputId": "8edb98f1-af37-4b19-9542-676622d0fe3b",
        "colab": {
          "base_uri": "https://localhost:8080/",
          "height": 1000
        }
      },
      "source": [
        "history = model.fit(X_train, y_train, epochs=500, validation_data=(X_test, y_test), callbacks=[mcp_save], batch_size=128)"
      ],
      "execution_count": 0,
      "outputs": [
        {
          "output_type": "stream",
          "text": [
            "Train on 2250 samples, validate on 750 samples\n",
            "Epoch 1/500\n",
            "2250/2250 [==============================] - 3s 1ms/sample - loss: 2.2309 - accuracy: 0.5733 - val_loss: 0.0418 - val_accuracy: 0.9827\n",
            "Epoch 2/500\n",
            "2250/2250 [==============================] - 8s 4ms/sample - loss: 0.3645 - accuracy: 0.9111 - val_loss: 0.0010 - val_accuracy: 1.0000\n",
            "Epoch 3/500\n",
            "2250/2250 [==============================] - 16s 7ms/sample - loss: 0.0552 - accuracy: 0.9840 - val_loss: 2.0993e-05 - val_accuracy: 1.0000\n",
            "Epoch 4/500\n",
            "2250/2250 [==============================] - 22s 10ms/sample - loss: 0.0310 - accuracy: 0.9911 - val_loss: 1.0581e-06 - val_accuracy: 1.0000\n",
            "Epoch 5/500\n",
            "2250/2250 [==============================] - 16s 7ms/sample - loss: 0.0101 - accuracy: 0.9969 - val_loss: 3.2914e-07 - val_accuracy: 1.0000\n",
            "Epoch 6/500\n",
            "2250/2250 [==============================] - 0s 207us/sample - loss: 0.0206 - accuracy: 0.9964 - val_loss: 1.3114e-06 - val_accuracy: 1.0000\n",
            "Epoch 7/500\n",
            "2250/2250 [==============================] - 0s 202us/sample - loss: 0.0069 - accuracy: 0.9978 - val_loss: 3.2154e-06 - val_accuracy: 1.0000\n",
            "Epoch 8/500\n",
            "2250/2250 [==============================] - 17s 8ms/sample - loss: 0.0084 - accuracy: 0.9973 - val_loss: 2.6320e-07 - val_accuracy: 1.0000\n",
            "Epoch 9/500\n",
            "2250/2250 [==============================] - 0s 209us/sample - loss: 0.0101 - accuracy: 0.9969 - val_loss: 5.7595e-07 - val_accuracy: 1.0000\n",
            "Epoch 10/500\n",
            "2250/2250 [==============================] - 0s 212us/sample - loss: 0.0049 - accuracy: 0.9982 - val_loss: 3.5127e-06 - val_accuracy: 1.0000\n",
            "Epoch 11/500\n",
            "2250/2250 [==============================] - 24s 11ms/sample - loss: 0.0056 - accuracy: 0.9978 - val_loss: 1.6593e-07 - val_accuracy: 1.0000\n",
            "Epoch 12/500\n",
            "2250/2250 [==============================] - 14s 6ms/sample - loss: 0.0023 - accuracy: 0.9987 - val_loss: 3.1789e-09 - val_accuracy: 1.0000\n",
            "Epoch 13/500\n",
            "2250/2250 [==============================] - 0s 210us/sample - loss: 8.4093e-04 - accuracy: 1.0000 - val_loss: 2.7162e-07 - val_accuracy: 1.0000\n",
            "Epoch 14/500\n",
            "2250/2250 [==============================] - 0s 207us/sample - loss: 0.0033 - accuracy: 0.9987 - val_loss: 8.1060e-08 - val_accuracy: 1.0000\n",
            "Epoch 15/500\n",
            "2250/2250 [==============================] - 23s 10ms/sample - loss: 0.0023 - accuracy: 0.9987 - val_loss: 3.1789e-10 - val_accuracy: 1.0000\n",
            "Epoch 16/500\n",
            "2250/2250 [==============================] - 0s 211us/sample - loss: 0.0054 - accuracy: 0.9978 - val_loss: 6.3578e-10 - val_accuracy: 1.0000\n",
            "Epoch 17/500\n",
            "2250/2250 [==============================] - 0s 213us/sample - loss: 0.0029 - accuracy: 0.9982 - val_loss: 1.4305e-09 - val_accuracy: 1.0000\n",
            "Epoch 18/500\n",
            "2250/2250 [==============================] - 0s 207us/sample - loss: 0.0054 - accuracy: 0.9991 - val_loss: 4.6228e-05 - val_accuracy: 1.0000\n",
            "Epoch 19/500\n",
            "2250/2250 [==============================] - 0s 208us/sample - loss: 0.0024 - accuracy: 0.9982 - val_loss: 7.3302e-07 - val_accuracy: 1.0000\n",
            "Epoch 20/500\n",
            "2250/2250 [==============================] - 0s 214us/sample - loss: 0.0026 - accuracy: 0.9987 - val_loss: 8.5830e-09 - val_accuracy: 1.0000\n",
            "Epoch 21/500\n",
            "2250/2250 [==============================] - 0s 208us/sample - loss: 0.0038 - accuracy: 0.9987 - val_loss: 1.5418e-08 - val_accuracy: 1.0000\n",
            "Epoch 22/500\n",
            "2250/2250 [==============================] - 0s 208us/sample - loss: 0.0023 - accuracy: 0.9996 - val_loss: 9.2188e-09 - val_accuracy: 1.0000\n",
            "Epoch 23/500\n",
            "2250/2250 [==============================] - 0s 208us/sample - loss: 0.0031 - accuracy: 0.9991 - val_loss: 7.9473e-09 - val_accuracy: 1.0000\n",
            "Epoch 24/500\n",
            "2250/2250 [==============================] - 0s 205us/sample - loss: 0.0011 - accuracy: 0.9996 - val_loss: 9.0568e-06 - val_accuracy: 1.0000\n",
            "Epoch 25/500\n",
            "2250/2250 [==============================] - 0s 207us/sample - loss: 0.0358 - accuracy: 0.9942 - val_loss: 1.3987e-08 - val_accuracy: 1.0000\n",
            "Epoch 26/500\n",
            "2250/2250 [==============================] - 14s 6ms/sample - loss: 0.0171 - accuracy: 0.9947 - val_loss: 0.0000e+00 - val_accuracy: 1.0000\n",
            "Epoch 27/500\n",
            "2250/2250 [==============================] - 0s 210us/sample - loss: 0.0070 - accuracy: 0.9982 - val_loss: 0.0000e+00 - val_accuracy: 1.0000\n",
            "Epoch 28/500\n",
            "2250/2250 [==============================] - 0s 221us/sample - loss: 0.0048 - accuracy: 0.9987 - val_loss: 0.0000e+00 - val_accuracy: 1.0000\n",
            "Epoch 29/500\n",
            "2250/2250 [==============================] - 0s 207us/sample - loss: 0.0046 - accuracy: 0.9982 - val_loss: 0.0000e+00 - val_accuracy: 1.0000\n",
            "Epoch 30/500\n",
            "2250/2250 [==============================] - 0s 201us/sample - loss: 0.0202 - accuracy: 0.9982 - val_loss: 1.5418e-08 - val_accuracy: 1.0000\n",
            "Epoch 31/500\n",
            "2250/2250 [==============================] - 0s 203us/sample - loss: 0.0034 - accuracy: 0.9982 - val_loss: 0.0000e+00 - val_accuracy: 1.0000\n",
            "Epoch 32/500\n",
            "2250/2250 [==============================] - 0s 207us/sample - loss: 0.0112 - accuracy: 0.9996 - val_loss: 0.0000e+00 - val_accuracy: 1.0000\n",
            "Epoch 33/500\n",
            "2250/2250 [==============================] - 0s 213us/sample - loss: 0.0196 - accuracy: 0.9982 - val_loss: 0.0000e+00 - val_accuracy: 1.0000\n",
            "Epoch 34/500\n",
            "2250/2250 [==============================] - 0s 214us/sample - loss: 0.0061 - accuracy: 0.9987 - val_loss: 0.0000e+00 - val_accuracy: 1.0000\n",
            "Epoch 35/500\n",
            "2250/2250 [==============================] - 0s 210us/sample - loss: 0.0014 - accuracy: 0.9996 - val_loss: 0.0000e+00 - val_accuracy: 1.0000\n",
            "Epoch 36/500\n",
            "2250/2250 [==============================] - 0s 211us/sample - loss: 0.0176 - accuracy: 0.9969 - val_loss: 0.0000e+00 - val_accuracy: 1.0000\n",
            "Epoch 37/500\n",
            "2250/2250 [==============================] - 0s 205us/sample - loss: 0.0254 - accuracy: 0.9969 - val_loss: 0.0000e+00 - val_accuracy: 1.0000\n",
            "Epoch 38/500\n",
            "2250/2250 [==============================] - 0s 205us/sample - loss: 0.0234 - accuracy: 0.9973 - val_loss: 0.0000e+00 - val_accuracy: 1.0000\n",
            "Epoch 39/500\n",
            "2250/2250 [==============================] - 0s 206us/sample - loss: 0.0161 - accuracy: 0.9978 - val_loss: 0.0000e+00 - val_accuracy: 1.0000\n",
            "Epoch 40/500\n",
            "2250/2250 [==============================] - 0s 208us/sample - loss: 0.0359 - accuracy: 0.9969 - val_loss: 0.0000e+00 - val_accuracy: 1.0000\n",
            "Epoch 41/500\n",
            "2250/2250 [==============================] - 0s 211us/sample - loss: 0.0165 - accuracy: 0.9987 - val_loss: 0.0000e+00 - val_accuracy: 1.0000\n",
            "Epoch 42/500\n",
            "2250/2250 [==============================] - 0s 206us/sample - loss: 0.0611 - accuracy: 0.9947 - val_loss: 0.0000e+00 - val_accuracy: 1.0000\n",
            "Epoch 43/500\n",
            "2250/2250 [==============================] - 0s 210us/sample - loss: 0.0125 - accuracy: 0.9969 - val_loss: 0.0000e+00 - val_accuracy: 1.0000\n",
            "Epoch 44/500\n",
            "2250/2250 [==============================] - 0s 212us/sample - loss: 0.0120 - accuracy: 0.9978 - val_loss: 6.3578e-10 - val_accuracy: 1.0000\n",
            "Epoch 45/500\n",
            "2250/2250 [==============================] - 0s 207us/sample - loss: 0.0131 - accuracy: 0.9987 - val_loss: 0.0000e+00 - val_accuracy: 1.0000\n",
            "Epoch 46/500\n",
            "2250/2250 [==============================] - 0s 208us/sample - loss: 1.4454e-04 - accuracy: 1.0000 - val_loss: 0.0000e+00 - val_accuracy: 1.0000\n",
            "Epoch 47/500\n",
            "2250/2250 [==============================] - 0s 209us/sample - loss: 3.1743e-04 - accuracy: 1.0000 - val_loss: 0.0000e+00 - val_accuracy: 1.0000\n",
            "Epoch 48/500\n",
            "2250/2250 [==============================] - 0s 210us/sample - loss: 0.0049 - accuracy: 0.9996 - val_loss: 0.0000e+00 - val_accuracy: 1.0000\n",
            "Epoch 49/500\n",
            "2250/2250 [==============================] - 0s 209us/sample - loss: 1.4022e-04 - accuracy: 1.0000 - val_loss: 0.0000e+00 - val_accuracy: 1.0000\n",
            "Epoch 50/500\n",
            "2250/2250 [==============================] - 0s 211us/sample - loss: 0.0025 - accuracy: 0.9996 - val_loss: 0.0000e+00 - val_accuracy: 1.0000\n",
            "Epoch 51/500\n",
            "2250/2250 [==============================] - 0s 208us/sample - loss: 7.8245e-04 - accuracy: 0.9996 - val_loss: 0.0000e+00 - val_accuracy: 1.0000\n",
            "Epoch 52/500\n",
            "2250/2250 [==============================] - 0s 210us/sample - loss: 0.0033 - accuracy: 0.9996 - val_loss: 0.0000e+00 - val_accuracy: 1.0000\n",
            "Epoch 53/500\n",
            "2250/2250 [==============================] - 0s 207us/sample - loss: 2.6114e-06 - accuracy: 1.0000 - val_loss: 0.0000e+00 - val_accuracy: 1.0000\n",
            "Epoch 54/500\n",
            "2250/2250 [==============================] - 0s 209us/sample - loss: 1.3473e-04 - accuracy: 1.0000 - val_loss: 0.0000e+00 - val_accuracy: 1.0000\n",
            "Epoch 55/500\n",
            "2250/2250 [==============================] - 0s 218us/sample - loss: 0.0051 - accuracy: 0.9991 - val_loss: 0.0000e+00 - val_accuracy: 1.0000\n",
            "Epoch 56/500\n",
            "2250/2250 [==============================] - 0s 210us/sample - loss: 5.3712e-06 - accuracy: 1.0000 - val_loss: 0.0000e+00 - val_accuracy: 1.0000\n",
            "Epoch 57/500\n",
            "2250/2250 [==============================] - 0s 208us/sample - loss: 1.6865e-05 - accuracy: 1.0000 - val_loss: 0.0000e+00 - val_accuracy: 1.0000\n",
            "Epoch 58/500\n",
            "2250/2250 [==============================] - 0s 211us/sample - loss: 5.0885e-04 - accuracy: 0.9996 - val_loss: 0.0000e+00 - val_accuracy: 1.0000\n",
            "Epoch 59/500\n",
            "2250/2250 [==============================] - 0s 207us/sample - loss: 3.0450e-06 - accuracy: 1.0000 - val_loss: 0.0000e+00 - val_accuracy: 1.0000\n",
            "Epoch 60/500\n",
            "2250/2250 [==============================] - 0s 210us/sample - loss: 3.3135e-05 - accuracy: 1.0000 - val_loss: 0.0000e+00 - val_accuracy: 1.0000\n",
            "Epoch 61/500\n",
            "2250/2250 [==============================] - 0s 206us/sample - loss: 4.6378e-06 - accuracy: 1.0000 - val_loss: 0.0000e+00 - val_accuracy: 1.0000\n",
            "Epoch 62/500\n",
            "2250/2250 [==============================] - 0s 210us/sample - loss: 7.3394e-07 - accuracy: 1.0000 - val_loss: 0.0000e+00 - val_accuracy: 1.0000\n",
            "Epoch 63/500\n",
            "2250/2250 [==============================] - 0s 208us/sample - loss: 3.4968e-09 - accuracy: 1.0000 - val_loss: 0.0000e+00 - val_accuracy: 1.0000\n",
            "Epoch 64/500\n",
            "2250/2250 [==============================] - 0s 209us/sample - loss: 8.4147e-07 - accuracy: 1.0000 - val_loss: 0.0000e+00 - val_accuracy: 1.0000\n",
            "Epoch 65/500\n",
            "2250/2250 [==============================] - 0s 213us/sample - loss: 1.4584e-07 - accuracy: 1.0000 - val_loss: 0.0000e+00 - val_accuracy: 1.0000\n",
            "Epoch 66/500\n",
            "2250/2250 [==============================] - 0s 209us/sample - loss: 3.0608e-07 - accuracy: 1.0000 - val_loss: 0.0000e+00 - val_accuracy: 1.0000\n",
            "Epoch 67/500\n",
            "2250/2250 [==============================] - 0s 211us/sample - loss: 1.1993e-06 - accuracy: 1.0000 - val_loss: 0.0000e+00 - val_accuracy: 1.0000\n",
            "Epoch 68/500\n",
            "2250/2250 [==============================] - 0s 207us/sample - loss: 6.8797e-04 - accuracy: 0.9996 - val_loss: 0.0000e+00 - val_accuracy: 1.0000\n",
            "Epoch 69/500\n",
            "2250/2250 [==============================] - 0s 203us/sample - loss: 1.0555e-05 - accuracy: 1.0000 - val_loss: 0.0000e+00 - val_accuracy: 1.0000\n",
            "Epoch 70/500\n",
            "2250/2250 [==============================] - 0s 205us/sample - loss: 1.1520e-04 - accuracy: 1.0000 - val_loss: 0.0000e+00 - val_accuracy: 1.0000\n",
            "Epoch 71/500\n",
            "2250/2250 [==============================] - 0s 208us/sample - loss: 3.3336e-05 - accuracy: 1.0000 - val_loss: 0.0000e+00 - val_accuracy: 1.0000\n",
            "Epoch 72/500\n",
            "2250/2250 [==============================] - 0s 207us/sample - loss: 4.2807e-08 - accuracy: 1.0000 - val_loss: 0.0000e+00 - val_accuracy: 1.0000\n",
            "Epoch 73/500\n",
            "2250/2250 [==============================] - 0s 211us/sample - loss: 3.5875e-04 - accuracy: 0.9996 - val_loss: 0.0000e+00 - val_accuracy: 1.0000\n",
            "Epoch 74/500\n",
            "2250/2250 [==============================] - 0s 206us/sample - loss: 4.2774e-07 - accuracy: 1.0000 - val_loss: 0.0000e+00 - val_accuracy: 1.0000\n",
            "Epoch 75/500\n",
            "2250/2250 [==============================] - 0s 209us/sample - loss: 2.5419e-04 - accuracy: 1.0000 - val_loss: 0.0000e+00 - val_accuracy: 1.0000\n",
            "Epoch 76/500\n",
            "2250/2250 [==============================] - 0s 210us/sample - loss: 3.9899e-06 - accuracy: 1.0000 - val_loss: 0.0000e+00 - val_accuracy: 1.0000\n",
            "Epoch 77/500\n",
            "2250/2250 [==============================] - 0s 210us/sample - loss: 7.2050e-04 - accuracy: 0.9996 - val_loss: 0.0000e+00 - val_accuracy: 1.0000\n",
            "Epoch 78/500\n",
            "2250/2250 [==============================] - 0s 212us/sample - loss: 5.5828e-07 - accuracy: 1.0000 - val_loss: 0.0000e+00 - val_accuracy: 1.0000\n",
            "Epoch 79/500\n",
            "2250/2250 [==============================] - 0s 210us/sample - loss: 0.0039 - accuracy: 0.9996 - val_loss: 0.0000e+00 - val_accuracy: 1.0000\n",
            "Epoch 80/500\n",
            "2250/2250 [==============================] - 0s 209us/sample - loss: 9.2952e-04 - accuracy: 0.9996 - val_loss: 0.0000e+00 - val_accuracy: 1.0000\n",
            "Epoch 81/500\n",
            "2250/2250 [==============================] - 0s 205us/sample - loss: 1.3233e-07 - accuracy: 1.0000 - val_loss: 0.0000e+00 - val_accuracy: 1.0000\n",
            "Epoch 82/500\n",
            "2250/2250 [==============================] - 0s 211us/sample - loss: 0.0131 - accuracy: 0.9996 - val_loss: 0.0000e+00 - val_accuracy: 1.0000\n",
            "Epoch 83/500\n",
            "2250/2250 [==============================] - 0s 207us/sample - loss: 0.0054 - accuracy: 0.9991 - val_loss: 0.0000e+00 - val_accuracy: 1.0000\n",
            "Epoch 84/500\n",
            "2250/2250 [==============================] - 0s 205us/sample - loss: 0.0030 - accuracy: 0.9996 - val_loss: 0.0000e+00 - val_accuracy: 1.0000\n",
            "Epoch 85/500\n",
            "2250/2250 [==============================] - 0s 206us/sample - loss: 0.0258 - accuracy: 0.9978 - val_loss: 0.0000e+00 - val_accuracy: 1.0000\n",
            "Epoch 86/500\n",
            "2250/2250 [==============================] - 0s 204us/sample - loss: 0.0109 - accuracy: 0.9991 - val_loss: 0.0000e+00 - val_accuracy: 1.0000\n",
            "Epoch 87/500\n",
            "2250/2250 [==============================] - 0s 204us/sample - loss: 8.8232e-05 - accuracy: 1.0000 - val_loss: 0.0000e+00 - val_accuracy: 1.0000\n",
            "Epoch 88/500\n",
            "2250/2250 [==============================] - 0s 211us/sample - loss: 0.0011 - accuracy: 0.9996 - val_loss: 0.0000e+00 - val_accuracy: 1.0000\n",
            "Epoch 89/500\n",
            "2250/2250 [==============================] - 0s 207us/sample - loss: 6.2941e-04 - accuracy: 0.9996 - val_loss: 0.0000e+00 - val_accuracy: 1.0000\n",
            "Epoch 90/500\n",
            "2250/2250 [==============================] - 0s 209us/sample - loss: 0.0132 - accuracy: 0.9991 - val_loss: 0.0000e+00 - val_accuracy: 1.0000\n",
            "Epoch 91/500\n",
            "2250/2250 [==============================] - 0s 207us/sample - loss: 0.0148 - accuracy: 0.9991 - val_loss: 0.0000e+00 - val_accuracy: 1.0000\n",
            "Epoch 92/500\n",
            "2250/2250 [==============================] - 0s 204us/sample - loss: 0.0486 - accuracy: 0.9982 - val_loss: 0.0000e+00 - val_accuracy: 1.0000\n",
            "Epoch 93/500\n",
            "2250/2250 [==============================] - 0s 204us/sample - loss: 0.0130 - accuracy: 0.9982 - val_loss: 0.0000e+00 - val_accuracy: 1.0000\n",
            "Epoch 94/500\n",
            "2250/2250 [==============================] - 0s 212us/sample - loss: 0.0049 - accuracy: 0.9996 - val_loss: 0.0000e+00 - val_accuracy: 1.0000\n",
            "Epoch 95/500\n",
            "2250/2250 [==============================] - 0s 213us/sample - loss: 0.0146 - accuracy: 0.9996 - val_loss: 0.0000e+00 - val_accuracy: 1.0000\n",
            "Epoch 96/500\n",
            "2250/2250 [==============================] - 0s 210us/sample - loss: 0.0031 - accuracy: 0.9996 - val_loss: 0.0000e+00 - val_accuracy: 1.0000\n",
            "Epoch 97/500\n",
            "2250/2250 [==============================] - 0s 215us/sample - loss: 0.0099 - accuracy: 0.9987 - val_loss: 0.0000e+00 - val_accuracy: 1.0000\n",
            "Epoch 98/500\n",
            "2250/2250 [==============================] - 0s 207us/sample - loss: 0.0126 - accuracy: 0.9982 - val_loss: 0.0000e+00 - val_accuracy: 1.0000\n",
            "Epoch 99/500\n",
            "2250/2250 [==============================] - 0s 204us/sample - loss: 0.0581 - accuracy: 0.9956 - val_loss: 2.6826e-05 - val_accuracy: 1.0000\n",
            "Epoch 100/500\n",
            "2250/2250 [==============================] - 0s 212us/sample - loss: 0.0557 - accuracy: 0.9960 - val_loss: 0.0000e+00 - val_accuracy: 1.0000\n",
            "Epoch 101/500\n",
            "2250/2250 [==============================] - 0s 210us/sample - loss: 0.0069 - accuracy: 0.9991 - val_loss: 0.0000e+00 - val_accuracy: 1.0000\n",
            "Epoch 102/500\n",
            "2250/2250 [==============================] - 0s 212us/sample - loss: 0.0471 - accuracy: 0.9991 - val_loss: 0.0000e+00 - val_accuracy: 1.0000\n",
            "Epoch 103/500\n",
            "2250/2250 [==============================] - 0s 208us/sample - loss: 0.0267 - accuracy: 0.9978 - val_loss: 0.0000e+00 - val_accuracy: 1.0000\n",
            "Epoch 104/500\n",
            "2250/2250 [==============================] - 0s 206us/sample - loss: 0.0032 - accuracy: 0.9996 - val_loss: 0.0000e+00 - val_accuracy: 1.0000\n",
            "Epoch 105/500\n",
            "2250/2250 [==============================] - 0s 206us/sample - loss: 0.0808 - accuracy: 0.9969 - val_loss: 0.0000e+00 - val_accuracy: 1.0000\n",
            "Epoch 106/500\n",
            "2250/2250 [==============================] - 0s 207us/sample - loss: 0.0121 - accuracy: 0.9991 - val_loss: 0.0000e+00 - val_accuracy: 1.0000\n",
            "Epoch 107/500\n",
            "2250/2250 [==============================] - 0s 205us/sample - loss: 0.0238 - accuracy: 0.9987 - val_loss: 0.0000e+00 - val_accuracy: 1.0000\n",
            "Epoch 108/500\n",
            "2250/2250 [==============================] - 0s 209us/sample - loss: 0.0097 - accuracy: 0.9991 - val_loss: 0.0000e+00 - val_accuracy: 1.0000\n",
            "Epoch 109/500\n",
            "2250/2250 [==============================] - 0s 208us/sample - loss: 0.0081 - accuracy: 0.9991 - val_loss: 0.0000e+00 - val_accuracy: 1.0000\n",
            "Epoch 110/500\n",
            "2250/2250 [==============================] - 0s 209us/sample - loss: 0.0043 - accuracy: 0.9991 - val_loss: 0.0000e+00 - val_accuracy: 1.0000\n",
            "Epoch 111/500\n",
            "2250/2250 [==============================] - 0s 213us/sample - loss: 0.0126 - accuracy: 0.9991 - val_loss: 0.0000e+00 - val_accuracy: 1.0000\n",
            "Epoch 112/500\n",
            "2250/2250 [==============================] - 0s 209us/sample - loss: 0.0016 - accuracy: 0.9996 - val_loss: 0.0000e+00 - val_accuracy: 1.0000\n",
            "Epoch 113/500\n",
            "2250/2250 [==============================] - 0s 209us/sample - loss: 0.0036 - accuracy: 0.9996 - val_loss: 0.0000e+00 - val_accuracy: 1.0000\n",
            "Epoch 114/500\n",
            "2250/2250 [==============================] - 0s 206us/sample - loss: 0.0051 - accuracy: 0.9996 - val_loss: 0.0000e+00 - val_accuracy: 1.0000\n",
            "Epoch 115/500\n",
            "2250/2250 [==============================] - 0s 207us/sample - loss: 9.1662e-04 - accuracy: 0.9996 - val_loss: 0.0000e+00 - val_accuracy: 1.0000\n",
            "Epoch 116/500\n",
            "2250/2250 [==============================] - 0s 205us/sample - loss: 3.6553e-04 - accuracy: 0.9996 - val_loss: 0.0000e+00 - val_accuracy: 1.0000\n",
            "Epoch 117/500\n",
            "2250/2250 [==============================] - 0s 203us/sample - loss: 4.2859e-06 - accuracy: 1.0000 - val_loss: 0.0000e+00 - val_accuracy: 1.0000\n",
            "Epoch 118/500\n",
            "2250/2250 [==============================] - 0s 205us/sample - loss: 0.0298 - accuracy: 0.9996 - val_loss: 0.0000e+00 - val_accuracy: 1.0000\n",
            "Epoch 119/500\n",
            "2250/2250 [==============================] - 0s 207us/sample - loss: 0.0442 - accuracy: 0.9987 - val_loss: 0.0000e+00 - val_accuracy: 1.0000\n",
            "Epoch 120/500\n",
            "2250/2250 [==============================] - 0s 207us/sample - loss: 0.0032 - accuracy: 0.9996 - val_loss: 0.0000e+00 - val_accuracy: 1.0000\n",
            "Epoch 121/500\n",
            "2250/2250 [==============================] - 0s 205us/sample - loss: 4.7486e-05 - accuracy: 1.0000 - val_loss: 0.0000e+00 - val_accuracy: 1.0000\n",
            "Epoch 122/500\n",
            "2250/2250 [==============================] - 0s 209us/sample - loss: 0.0000e+00 - accuracy: 1.0000 - val_loss: 0.0000e+00 - val_accuracy: 1.0000\n",
            "Epoch 123/500\n",
            "2250/2250 [==============================] - 0s 206us/sample - loss: 1.0596e-10 - accuracy: 1.0000 - val_loss: 0.0000e+00 - val_accuracy: 1.0000\n",
            "Epoch 124/500\n",
            "2250/2250 [==============================] - 0s 210us/sample - loss: 0.0017 - accuracy: 0.9996 - val_loss: 0.0000e+00 - val_accuracy: 1.0000\n",
            "Epoch 125/500\n",
            "2250/2250 [==============================] - 0s 204us/sample - loss: 0.0000e+00 - accuracy: 1.0000 - val_loss: 0.0000e+00 - val_accuracy: 1.0000\n",
            "Epoch 126/500\n",
            "2250/2250 [==============================] - 0s 209us/sample - loss: 0.0000e+00 - accuracy: 1.0000 - val_loss: 0.0000e+00 - val_accuracy: 1.0000\n",
            "Epoch 127/500\n",
            "2250/2250 [==============================] - 0s 202us/sample - loss: 0.0000e+00 - accuracy: 1.0000 - val_loss: 0.0000e+00 - val_accuracy: 1.0000\n",
            "Epoch 128/500\n",
            "2250/2250 [==============================] - 0s 208us/sample - loss: 0.0000e+00 - accuracy: 1.0000 - val_loss: 0.0000e+00 - val_accuracy: 1.0000\n",
            "Epoch 129/500\n",
            "2250/2250 [==============================] - 0s 208us/sample - loss: 9.2580e-06 - accuracy: 1.0000 - val_loss: 0.0000e+00 - val_accuracy: 1.0000\n",
            "Epoch 130/500\n",
            "2250/2250 [==============================] - 0s 206us/sample - loss: 5.0830e-04 - accuracy: 0.9996 - val_loss: 0.0000e+00 - val_accuracy: 1.0000\n",
            "Epoch 131/500\n",
            "2250/2250 [==============================] - 0s 209us/sample - loss: 0.0000e+00 - accuracy: 1.0000 - val_loss: 0.0000e+00 - val_accuracy: 1.0000\n",
            "Epoch 132/500\n",
            "2250/2250 [==============================] - 0s 208us/sample - loss: 1.2134e-04 - accuracy: 1.0000 - val_loss: 0.0000e+00 - val_accuracy: 1.0000\n",
            "Epoch 133/500\n",
            "2250/2250 [==============================] - 0s 208us/sample - loss: 0.0000e+00 - accuracy: 1.0000 - val_loss: 0.0000e+00 - val_accuracy: 1.0000\n",
            "Epoch 134/500\n",
            "2250/2250 [==============================] - 0s 209us/sample - loss: 4.7684e-10 - accuracy: 1.0000 - val_loss: 0.0000e+00 - val_accuracy: 1.0000\n",
            "Epoch 135/500\n",
            "2250/2250 [==============================] - 0s 210us/sample - loss: 6.8876e-10 - accuracy: 1.0000 - val_loss: 0.0000e+00 - val_accuracy: 1.0000\n",
            "Epoch 136/500\n",
            "2250/2250 [==============================] - 0s 208us/sample - loss: 0.0000e+00 - accuracy: 1.0000 - val_loss: 0.0000e+00 - val_accuracy: 1.0000\n",
            "Epoch 137/500\n",
            "2250/2250 [==============================] - 0s 207us/sample - loss: 0.0000e+00 - accuracy: 1.0000 - val_loss: 0.0000e+00 - val_accuracy: 1.0000\n",
            "Epoch 138/500\n",
            "2250/2250 [==============================] - 0s 209us/sample - loss: 0.0000e+00 - accuracy: 1.0000 - val_loss: 0.0000e+00 - val_accuracy: 1.0000\n",
            "Epoch 139/500\n",
            "2250/2250 [==============================] - 0s 210us/sample - loss: 0.0030 - accuracy: 0.9996 - val_loss: 0.0000e+00 - val_accuracy: 1.0000\n",
            "Epoch 140/500\n",
            "2250/2250 [==============================] - 0s 209us/sample - loss: 2.5039e-06 - accuracy: 1.0000 - val_loss: 0.0000e+00 - val_accuracy: 1.0000\n",
            "Epoch 141/500\n",
            "2250/2250 [==============================] - 0s 209us/sample - loss: 0.0000e+00 - accuracy: 1.0000 - val_loss: 0.0000e+00 - val_accuracy: 1.0000\n",
            "Epoch 142/500\n",
            "2250/2250 [==============================] - 0s 206us/sample - loss: 4.0423e-08 - accuracy: 1.0000 - val_loss: 0.0000e+00 - val_accuracy: 1.0000\n",
            "Epoch 143/500\n",
            "2250/2250 [==============================] - 0s 208us/sample - loss: 0.0227 - accuracy: 0.9996 - val_loss: 0.0000e+00 - val_accuracy: 1.0000\n",
            "Epoch 144/500\n",
            "2250/2250 [==============================] - 0s 212us/sample - loss: 0.0264 - accuracy: 0.9996 - val_loss: 0.0000e+00 - val_accuracy: 1.0000\n",
            "Epoch 145/500\n",
            "2250/2250 [==============================] - 0s 211us/sample - loss: 0.0171 - accuracy: 0.9991 - val_loss: 0.0000e+00 - val_accuracy: 1.0000\n",
            "Epoch 146/500\n",
            "2250/2250 [==============================] - 0s 209us/sample - loss: 0.0023 - accuracy: 0.9996 - val_loss: 0.0000e+00 - val_accuracy: 1.0000\n",
            "Epoch 147/500\n",
            "2250/2250 [==============================] - 0s 206us/sample - loss: 9.9935e-04 - accuracy: 0.9996 - val_loss: 0.0000e+00 - val_accuracy: 1.0000\n",
            "Epoch 148/500\n",
            "2250/2250 [==============================] - 0s 207us/sample - loss: 0.0096 - accuracy: 0.9987 - val_loss: 0.0000e+00 - val_accuracy: 1.0000\n",
            "Epoch 149/500\n",
            "2250/2250 [==============================] - 0s 203us/sample - loss: 0.0000e+00 - accuracy: 1.0000 - val_loss: 0.0000e+00 - val_accuracy: 1.0000\n",
            "Epoch 150/500\n",
            "2250/2250 [==============================] - 0s 208us/sample - loss: 5.2982e-11 - accuracy: 1.0000 - val_loss: 0.0000e+00 - val_accuracy: 1.0000\n",
            "Epoch 151/500\n",
            "2250/2250 [==============================] - 0s 207us/sample - loss: 2.1193e-10 - accuracy: 1.0000 - val_loss: 0.0000e+00 - val_accuracy: 1.0000\n",
            "Epoch 152/500\n",
            "2250/2250 [==============================] - 0s 213us/sample - loss: 0.0038 - accuracy: 0.9996 - val_loss: 0.0000e+00 - val_accuracy: 1.0000\n",
            "Epoch 153/500\n",
            "2250/2250 [==============================] - 0s 210us/sample - loss: 0.0072 - accuracy: 0.9996 - val_loss: 0.0000e+00 - val_accuracy: 1.0000\n",
            "Epoch 154/500\n",
            "2250/2250 [==============================] - 0s 209us/sample - loss: 0.0123 - accuracy: 0.9996 - val_loss: 0.0000e+00 - val_accuracy: 1.0000\n",
            "Epoch 155/500\n",
            "2250/2250 [==============================] - 0s 207us/sample - loss: 0.0061 - accuracy: 0.9996 - val_loss: 0.0000e+00 - val_accuracy: 1.0000\n",
            "Epoch 156/500\n",
            "2250/2250 [==============================] - 0s 203us/sample - loss: 0.0000e+00 - accuracy: 1.0000 - val_loss: 0.0000e+00 - val_accuracy: 1.0000\n",
            "Epoch 157/500\n",
            "2250/2250 [==============================] - 0s 210us/sample - loss: 2.3761e-06 - accuracy: 1.0000 - val_loss: 0.0000e+00 - val_accuracy: 1.0000\n",
            "Epoch 158/500\n",
            "2250/2250 [==============================] - 0s 206us/sample - loss: 0.0000e+00 - accuracy: 1.0000 - val_loss: 0.0000e+00 - val_accuracy: 1.0000\n",
            "Epoch 159/500\n",
            "2250/2250 [==============================] - 0s 206us/sample - loss: 0.0173 - accuracy: 0.9996 - val_loss: 0.0000e+00 - val_accuracy: 1.0000\n",
            "Epoch 160/500\n",
            "2250/2250 [==============================] - 0s 206us/sample - loss: 0.0132 - accuracy: 0.9991 - val_loss: 0.0000e+00 - val_accuracy: 1.0000\n",
            "Epoch 161/500\n",
            "2250/2250 [==============================] - 0s 210us/sample - loss: 1.2610e-04 - accuracy: 1.0000 - val_loss: 0.0000e+00 - val_accuracy: 1.0000\n",
            "Epoch 162/500\n",
            "2250/2250 [==============================] - 0s 207us/sample - loss: 0.0113 - accuracy: 0.9987 - val_loss: 0.0000e+00 - val_accuracy: 1.0000\n",
            "Epoch 163/500\n",
            "2250/2250 [==============================] - 0s 210us/sample - loss: 0.0075 - accuracy: 0.9996 - val_loss: 0.0000e+00 - val_accuracy: 1.0000\n",
            "Epoch 164/500\n",
            "2250/2250 [==============================] - 0s 204us/sample - loss: 4.4308e-06 - accuracy: 1.0000 - val_loss: 0.0000e+00 - val_accuracy: 1.0000\n",
            "Epoch 165/500\n",
            "2250/2250 [==============================] - 0s 207us/sample - loss: 1.2557e-08 - accuracy: 1.0000 - val_loss: 0.0000e+00 - val_accuracy: 1.0000\n",
            "Epoch 166/500\n",
            "2250/2250 [==============================] - 0s 206us/sample - loss: 0.0000e+00 - accuracy: 1.0000 - val_loss: 0.0000e+00 - val_accuracy: 1.0000\n",
            "Epoch 167/500\n",
            "2250/2250 [==============================] - 0s 208us/sample - loss: 0.0081 - accuracy: 0.9996 - val_loss: 0.0000e+00 - val_accuracy: 1.0000\n",
            "Epoch 168/500\n",
            "2250/2250 [==============================] - 0s 210us/sample - loss: 0.0130 - accuracy: 0.9991 - val_loss: 0.0000e+00 - val_accuracy: 1.0000\n",
            "Epoch 169/500\n",
            "2250/2250 [==============================] - 0s 210us/sample - loss: 1.0596e-10 - accuracy: 1.0000 - val_loss: 0.0000e+00 - val_accuracy: 1.0000\n",
            "Epoch 170/500\n",
            "2250/2250 [==============================] - 0s 205us/sample - loss: 0.0031 - accuracy: 0.9996 - val_loss: 0.0000e+00 - val_accuracy: 1.0000\n",
            "Epoch 171/500\n",
            "2250/2250 [==============================] - 0s 207us/sample - loss: 0.0088 - accuracy: 0.9996 - val_loss: 0.0000e+00 - val_accuracy: 1.0000\n",
            "Epoch 172/500\n",
            "2250/2250 [==============================] - 0s 208us/sample - loss: 0.0000e+00 - accuracy: 1.0000 - val_loss: 0.0000e+00 - val_accuracy: 1.0000\n",
            "Epoch 173/500\n",
            "2250/2250 [==============================] - 0s 209us/sample - loss: 0.0000e+00 - accuracy: 1.0000 - val_loss: 0.0000e+00 - val_accuracy: 1.0000\n",
            "Epoch 174/500\n",
            "2250/2250 [==============================] - 0s 208us/sample - loss: 2.7974e-08 - accuracy: 1.0000 - val_loss: 0.0000e+00 - val_accuracy: 1.0000\n",
            "Epoch 175/500\n",
            "2250/2250 [==============================] - 0s 207us/sample - loss: 0.0000e+00 - accuracy: 1.0000 - val_loss: 0.0000e+00 - val_accuracy: 1.0000\n",
            "Epoch 176/500\n",
            "2250/2250 [==============================] - 0s 210us/sample - loss: 0.0000e+00 - accuracy: 1.0000 - val_loss: 0.0000e+00 - val_accuracy: 1.0000\n",
            "Epoch 177/500\n",
            "2250/2250 [==============================] - 0s 209us/sample - loss: 0.0000e+00 - accuracy: 1.0000 - val_loss: 0.0000e+00 - val_accuracy: 1.0000\n",
            "Epoch 178/500\n",
            "2250/2250 [==============================] - 0s 203us/sample - loss: 0.0000e+00 - accuracy: 1.0000 - val_loss: 0.0000e+00 - val_accuracy: 1.0000\n",
            "Epoch 179/500\n",
            "2250/2250 [==============================] - 0s 204us/sample - loss: 0.0000e+00 - accuracy: 1.0000 - val_loss: 0.0000e+00 - val_accuracy: 1.0000\n",
            "Epoch 180/500\n",
            "2250/2250 [==============================] - 0s 207us/sample - loss: 0.0000e+00 - accuracy: 1.0000 - val_loss: 0.0000e+00 - val_accuracy: 1.0000\n",
            "Epoch 181/500\n",
            "2250/2250 [==============================] - 0s 206us/sample - loss: 2.8080e-09 - accuracy: 1.0000 - val_loss: 0.0000e+00 - val_accuracy: 1.0000\n",
            "Epoch 182/500\n",
            "2250/2250 [==============================] - 0s 207us/sample - loss: 0.0000e+00 - accuracy: 1.0000 - val_loss: 0.0000e+00 - val_accuracy: 1.0000\n",
            "Epoch 183/500\n",
            "2250/2250 [==============================] - 0s 210us/sample - loss: 6.9267e-05 - accuracy: 1.0000 - val_loss: 0.0000e+00 - val_accuracy: 1.0000\n",
            "Epoch 184/500\n",
            "2250/2250 [==============================] - 0s 206us/sample - loss: 0.0000e+00 - accuracy: 1.0000 - val_loss: 0.0000e+00 - val_accuracy: 1.0000\n",
            "Epoch 185/500\n",
            "2250/2250 [==============================] - 0s 207us/sample - loss: 0.0000e+00 - accuracy: 1.0000 - val_loss: 0.0000e+00 - val_accuracy: 1.0000\n",
            "Epoch 186/500\n",
            "2250/2250 [==============================] - 0s 212us/sample - loss: 0.0101 - accuracy: 0.9996 - val_loss: 0.0000e+00 - val_accuracy: 1.0000\n",
            "Epoch 187/500\n",
            "2250/2250 [==============================] - 0s 212us/sample - loss: 3.0358e-08 - accuracy: 1.0000 - val_loss: 0.0000e+00 - val_accuracy: 1.0000\n",
            "Epoch 188/500\n",
            "2250/2250 [==============================] - 0s 210us/sample - loss: 0.0000e+00 - accuracy: 1.0000 - val_loss: 0.0000e+00 - val_accuracy: 1.0000\n",
            "Epoch 189/500\n",
            "2250/2250 [==============================] - 0s 208us/sample - loss: 0.0000e+00 - accuracy: 1.0000 - val_loss: 0.0000e+00 - val_accuracy: 1.0000\n",
            "Epoch 190/500\n",
            "2250/2250 [==============================] - 0s 208us/sample - loss: 0.0000e+00 - accuracy: 1.0000 - val_loss: 0.0000e+00 - val_accuracy: 1.0000\n",
            "Epoch 191/500\n",
            "2250/2250 [==============================] - 0s 210us/sample - loss: 1.0596e-10 - accuracy: 1.0000 - val_loss: 0.0000e+00 - val_accuracy: 1.0000\n",
            "Epoch 192/500\n",
            "2250/2250 [==============================] - 0s 209us/sample - loss: 6.8991e-06 - accuracy: 1.0000 - val_loss: 0.0000e+00 - val_accuracy: 1.0000\n",
            "Epoch 193/500\n",
            "2250/2250 [==============================] - 0s 204us/sample - loss: 0.0000e+00 - accuracy: 1.0000 - val_loss: 0.0000e+00 - val_accuracy: 1.0000\n",
            "Epoch 194/500\n",
            "2250/2250 [==============================] - 0s 201us/sample - loss: 0.0000e+00 - accuracy: 1.0000 - val_loss: 0.0000e+00 - val_accuracy: 1.0000\n",
            "Epoch 195/500\n",
            "2250/2250 [==============================] - 0s 206us/sample - loss: 7.8413e-09 - accuracy: 1.0000 - val_loss: 0.0000e+00 - val_accuracy: 1.0000\n",
            "Epoch 196/500\n",
            "2250/2250 [==============================] - 0s 205us/sample - loss: 0.0030 - accuracy: 0.9996 - val_loss: 0.0000e+00 - val_accuracy: 1.0000\n",
            "Epoch 197/500\n",
            "2250/2250 [==============================] - 0s 209us/sample - loss: 4.2386e-10 - accuracy: 1.0000 - val_loss: 0.0000e+00 - val_accuracy: 1.0000\n",
            "Epoch 198/500\n",
            "2250/2250 [==============================] - 0s 206us/sample - loss: 0.0000e+00 - accuracy: 1.0000 - val_loss: 0.0000e+00 - val_accuracy: 1.0000\n",
            "Epoch 199/500\n",
            "2250/2250 [==============================] - 0s 207us/sample - loss: 0.0000e+00 - accuracy: 1.0000 - val_loss: 0.0000e+00 - val_accuracy: 1.0000\n",
            "Epoch 200/500\n",
            "2250/2250 [==============================] - 0s 205us/sample - loss: 0.0000e+00 - accuracy: 1.0000 - val_loss: 0.0000e+00 - val_accuracy: 1.0000\n",
            "Epoch 201/500\n",
            "2250/2250 [==============================] - 0s 210us/sample - loss: 1.5733e-07 - accuracy: 1.0000 - val_loss: 0.0000e+00 - val_accuracy: 1.0000\n",
            "Epoch 202/500\n",
            "2250/2250 [==============================] - 0s 210us/sample - loss: 0.0000e+00 - accuracy: 1.0000 - val_loss: 0.0000e+00 - val_accuracy: 1.0000\n",
            "Epoch 203/500\n",
            "2250/2250 [==============================] - 0s 202us/sample - loss: 1.4305e-09 - accuracy: 1.0000 - val_loss: 0.0000e+00 - val_accuracy: 1.0000\n",
            "Epoch 204/500\n",
            "2250/2250 [==============================] - 0s 205us/sample - loss: 0.0000e+00 - accuracy: 1.0000 - val_loss: 0.0000e+00 - val_accuracy: 1.0000\n",
            "Epoch 205/500\n",
            "2250/2250 [==============================] - 0s 207us/sample - loss: 0.0000e+00 - accuracy: 1.0000 - val_loss: 0.0000e+00 - val_accuracy: 1.0000\n",
            "Epoch 206/500\n",
            "2250/2250 [==============================] - 0s 208us/sample - loss: 0.0000e+00 - accuracy: 1.0000 - val_loss: 0.0000e+00 - val_accuracy: 1.0000\n",
            "Epoch 207/500\n",
            "2250/2250 [==============================] - 0s 212us/sample - loss: 1.8680e-05 - accuracy: 1.0000 - val_loss: 0.0000e+00 - val_accuracy: 1.0000\n",
            "Epoch 208/500\n",
            "2250/2250 [==============================] - 0s 211us/sample - loss: 0.0000e+00 - accuracy: 1.0000 - val_loss: 0.0000e+00 - val_accuracy: 1.0000\n",
            "Epoch 209/500\n",
            "2250/2250 [==============================] - 0s 210us/sample - loss: 0.0000e+00 - accuracy: 1.0000 - val_loss: 0.0000e+00 - val_accuracy: 1.0000\n",
            "Epoch 210/500\n",
            "2250/2250 [==============================] - 0s 207us/sample - loss: 0.0000e+00 - accuracy: 1.0000 - val_loss: 0.0000e+00 - val_accuracy: 1.0000\n",
            "Epoch 211/500\n",
            "2250/2250 [==============================] - 0s 208us/sample - loss: 0.0100 - accuracy: 0.9996 - val_loss: 0.0000e+00 - val_accuracy: 1.0000\n",
            "Epoch 212/500\n",
            "2250/2250 [==============================] - 0s 203us/sample - loss: 0.0000e+00 - accuracy: 1.0000 - val_loss: 0.0000e+00 - val_accuracy: 1.0000\n",
            "Epoch 213/500\n",
            "2250/2250 [==============================] - 0s 206us/sample - loss: 0.0000e+00 - accuracy: 1.0000 - val_loss: 0.0000e+00 - val_accuracy: 1.0000\n",
            "Epoch 214/500\n",
            "2250/2250 [==============================] - 0s 213us/sample - loss: 0.0020 - accuracy: 0.9996 - val_loss: 0.0000e+00 - val_accuracy: 1.0000\n",
            "Epoch 215/500\n",
            "2250/2250 [==============================] - 0s 203us/sample - loss: 0.0000e+00 - accuracy: 1.0000 - val_loss: 0.0000e+00 - val_accuracy: 1.0000\n",
            "Epoch 216/500\n",
            "2250/2250 [==============================] - 0s 206us/sample - loss: 0.0000e+00 - accuracy: 1.0000 - val_loss: 0.0000e+00 - val_accuracy: 1.0000\n",
            "Epoch 217/500\n",
            "2250/2250 [==============================] - 0s 208us/sample - loss: 0.0000e+00 - accuracy: 1.0000 - val_loss: 0.0000e+00 - val_accuracy: 1.0000\n",
            "Epoch 218/500\n",
            "2250/2250 [==============================] - 0s 209us/sample - loss: 0.0021 - accuracy: 0.9996 - val_loss: 0.0000e+00 - val_accuracy: 1.0000\n",
            "Epoch 219/500\n",
            "2250/2250 [==============================] - 0s 207us/sample - loss: 0.0000e+00 - accuracy: 1.0000 - val_loss: 0.0000e+00 - val_accuracy: 1.0000\n",
            "Epoch 220/500\n",
            "2250/2250 [==============================] - 0s 207us/sample - loss: 0.0000e+00 - accuracy: 1.0000 - val_loss: 0.0000e+00 - val_accuracy: 1.0000\n",
            "Epoch 221/500\n",
            "2250/2250 [==============================] - 0s 203us/sample - loss: 0.0000e+00 - accuracy: 1.0000 - val_loss: 0.0000e+00 - val_accuracy: 1.0000\n",
            "Epoch 222/500\n",
            "2250/2250 [==============================] - 0s 207us/sample - loss: 0.0000e+00 - accuracy: 1.0000 - val_loss: 0.0000e+00 - val_accuracy: 1.0000\n",
            "Epoch 223/500\n",
            "2250/2250 [==============================] - 0s 208us/sample - loss: 0.0000e+00 - accuracy: 1.0000 - val_loss: 0.0000e+00 - val_accuracy: 1.0000\n",
            "Epoch 224/500\n",
            "2250/2250 [==============================] - 0s 206us/sample - loss: 0.0000e+00 - accuracy: 1.0000 - val_loss: 0.0000e+00 - val_accuracy: 1.0000\n",
            "Epoch 225/500\n",
            "2250/2250 [==============================] - 0s 211us/sample - loss: 0.0000e+00 - accuracy: 1.0000 - val_loss: 0.0000e+00 - val_accuracy: 1.0000\n",
            "Epoch 226/500\n",
            "2250/2250 [==============================] - 0s 213us/sample - loss: 0.0000e+00 - accuracy: 1.0000 - val_loss: 0.0000e+00 - val_accuracy: 1.0000\n",
            "Epoch 227/500\n",
            "2250/2250 [==============================] - 0s 211us/sample - loss: 0.0000e+00 - accuracy: 1.0000 - val_loss: 0.0000e+00 - val_accuracy: 1.0000\n",
            "Epoch 228/500\n",
            "2250/2250 [==============================] - 0s 209us/sample - loss: 0.0000e+00 - accuracy: 1.0000 - val_loss: 0.0000e+00 - val_accuracy: 1.0000\n",
            "Epoch 229/500\n",
            "2250/2250 [==============================] - 0s 211us/sample - loss: 0.0000e+00 - accuracy: 1.0000 - val_loss: 0.0000e+00 - val_accuracy: 1.0000\n",
            "Epoch 230/500\n",
            "2250/2250 [==============================] - 0s 209us/sample - loss: 0.0000e+00 - accuracy: 1.0000 - val_loss: 0.0000e+00 - val_accuracy: 1.0000\n",
            "Epoch 231/500\n",
            "2250/2250 [==============================] - 0s 210us/sample - loss: 0.0000e+00 - accuracy: 1.0000 - val_loss: 0.0000e+00 - val_accuracy: 1.0000\n",
            "Epoch 232/500\n",
            "2250/2250 [==============================] - 0s 205us/sample - loss: 0.0000e+00 - accuracy: 1.0000 - val_loss: 0.0000e+00 - val_accuracy: 1.0000\n",
            "Epoch 233/500\n",
            "2250/2250 [==============================] - 0s 209us/sample - loss: 5.6224e-06 - accuracy: 1.0000 - val_loss: 0.0000e+00 - val_accuracy: 1.0000\n",
            "Epoch 234/500\n",
            "2250/2250 [==============================] - 0s 209us/sample - loss: 0.0000e+00 - accuracy: 1.0000 - val_loss: 0.0000e+00 - val_accuracy: 1.0000\n",
            "Epoch 235/500\n",
            "2250/2250 [==============================] - 0s 211us/sample - loss: 0.0000e+00 - accuracy: 1.0000 - val_loss: 0.0000e+00 - val_accuracy: 1.0000\n",
            "Epoch 236/500\n",
            "2250/2250 [==============================] - 0s 205us/sample - loss: 0.0000e+00 - accuracy: 1.0000 - val_loss: 0.0000e+00 - val_accuracy: 1.0000\n",
            "Epoch 237/500\n",
            "2250/2250 [==============================] - 0s 207us/sample - loss: 0.0000e+00 - accuracy: 1.0000 - val_loss: 0.0000e+00 - val_accuracy: 1.0000\n",
            "Epoch 238/500\n",
            "2250/2250 [==============================] - 0s 210us/sample - loss: 0.0000e+00 - accuracy: 1.0000 - val_loss: 0.0000e+00 - val_accuracy: 1.0000\n",
            "Epoch 239/500\n",
            "2250/2250 [==============================] - 0s 211us/sample - loss: 0.0000e+00 - accuracy: 1.0000 - val_loss: 0.0000e+00 - val_accuracy: 1.0000\n",
            "Epoch 240/500\n",
            "2250/2250 [==============================] - 0s 205us/sample - loss: 1.0596e-10 - accuracy: 1.0000 - val_loss: 0.0000e+00 - val_accuracy: 1.0000\n",
            "Epoch 241/500\n",
            "2250/2250 [==============================] - 0s 209us/sample - loss: 0.0000e+00 - accuracy: 1.0000 - val_loss: 0.0000e+00 - val_accuracy: 1.0000\n",
            "Epoch 242/500\n",
            "2250/2250 [==============================] - 0s 205us/sample - loss: 0.0000e+00 - accuracy: 1.0000 - val_loss: 0.0000e+00 - val_accuracy: 1.0000\n",
            "Epoch 243/500\n",
            "2250/2250 [==============================] - 0s 211us/sample - loss: 0.0000e+00 - accuracy: 1.0000 - val_loss: 0.0000e+00 - val_accuracy: 1.0000\n",
            "Epoch 244/500\n",
            "2250/2250 [==============================] - 0s 204us/sample - loss: 0.0000e+00 - accuracy: 1.0000 - val_loss: 0.0000e+00 - val_accuracy: 1.0000\n",
            "Epoch 245/500\n",
            "2250/2250 [==============================] - 0s 205us/sample - loss: 0.0000e+00 - accuracy: 1.0000 - val_loss: 0.0000e+00 - val_accuracy: 1.0000\n",
            "Epoch 246/500\n",
            "2250/2250 [==============================] - 0s 204us/sample - loss: 1.0596e-10 - accuracy: 1.0000 - val_loss: 0.0000e+00 - val_accuracy: 1.0000\n",
            "Epoch 247/500\n",
            "2250/2250 [==============================] - 0s 213us/sample - loss: 0.0000e+00 - accuracy: 1.0000 - val_loss: 0.0000e+00 - val_accuracy: 1.0000\n",
            "Epoch 248/500\n",
            "2250/2250 [==============================] - 0s 211us/sample - loss: 0.0000e+00 - accuracy: 1.0000 - val_loss: 0.0000e+00 - val_accuracy: 1.0000\n",
            "Epoch 249/500\n",
            "2250/2250 [==============================] - 0s 205us/sample - loss: 0.0000e+00 - accuracy: 1.0000 - val_loss: 0.0000e+00 - val_accuracy: 1.0000\n",
            "Epoch 250/500\n",
            "2250/2250 [==============================] - 0s 207us/sample - loss: 0.0000e+00 - accuracy: 1.0000 - val_loss: 0.0000e+00 - val_accuracy: 1.0000\n",
            "Epoch 251/500\n",
            "2250/2250 [==============================] - 0s 208us/sample - loss: 0.0000e+00 - accuracy: 1.0000 - val_loss: 0.0000e+00 - val_accuracy: 1.0000\n",
            "Epoch 252/500\n",
            "2250/2250 [==============================] - 0s 209us/sample - loss: 0.0000e+00 - accuracy: 1.0000 - val_loss: 0.0000e+00 - val_accuracy: 1.0000\n",
            "Epoch 253/500\n",
            "2250/2250 [==============================] - 0s 205us/sample - loss: 0.0000e+00 - accuracy: 1.0000 - val_loss: 0.0000e+00 - val_accuracy: 1.0000\n",
            "Epoch 254/500\n",
            "2250/2250 [==============================] - 0s 209us/sample - loss: 0.0000e+00 - accuracy: 1.0000 - val_loss: 0.0000e+00 - val_accuracy: 1.0000\n",
            "Epoch 255/500\n",
            "2250/2250 [==============================] - 0s 206us/sample - loss: 0.0000e+00 - accuracy: 1.0000 - val_loss: 0.0000e+00 - val_accuracy: 1.0000\n",
            "Epoch 256/500\n",
            "2250/2250 [==============================] - 0s 206us/sample - loss: 0.0000e+00 - accuracy: 1.0000 - val_loss: 0.0000e+00 - val_accuracy: 1.0000\n",
            "Epoch 257/500\n",
            "2250/2250 [==============================] - 0s 204us/sample - loss: 0.0000e+00 - accuracy: 1.0000 - val_loss: 0.0000e+00 - val_accuracy: 1.0000\n",
            "Epoch 258/500\n",
            "2250/2250 [==============================] - 0s 204us/sample - loss: 0.0000e+00 - accuracy: 1.0000 - val_loss: 0.0000e+00 - val_accuracy: 1.0000\n",
            "Epoch 259/500\n",
            "2250/2250 [==============================] - 0s 208us/sample - loss: 0.0000e+00 - accuracy: 1.0000 - val_loss: 0.0000e+00 - val_accuracy: 1.0000\n",
            "Epoch 260/500\n",
            "2250/2250 [==============================] - 0s 209us/sample - loss: 0.0000e+00 - accuracy: 1.0000 - val_loss: 0.0000e+00 - val_accuracy: 1.0000\n",
            "Epoch 261/500\n",
            "2250/2250 [==============================] - 0s 210us/sample - loss: 0.0000e+00 - accuracy: 1.0000 - val_loss: 0.0000e+00 - val_accuracy: 1.0000\n",
            "Epoch 262/500\n",
            "2250/2250 [==============================] - 0s 207us/sample - loss: 0.0000e+00 - accuracy: 1.0000 - val_loss: 0.0000e+00 - val_accuracy: 1.0000\n",
            "Epoch 263/500\n",
            "2250/2250 [==============================] - 0s 209us/sample - loss: 0.0000e+00 - accuracy: 1.0000 - val_loss: 0.0000e+00 - val_accuracy: 1.0000\n",
            "Epoch 264/500\n",
            "2250/2250 [==============================] - 0s 205us/sample - loss: 0.0041 - accuracy: 0.9996 - val_loss: 0.0381 - val_accuracy: 0.9987\n",
            "Epoch 265/500\n",
            "2250/2250 [==============================] - 0s 210us/sample - loss: 0.2136 - accuracy: 0.9978 - val_loss: 0.0000e+00 - val_accuracy: 1.0000\n",
            "Epoch 266/500\n",
            "2250/2250 [==============================] - 0s 207us/sample - loss: 0.0974 - accuracy: 0.9973 - val_loss: 0.0000e+00 - val_accuracy: 1.0000\n",
            "Epoch 267/500\n",
            "2250/2250 [==============================] - 0s 207us/sample - loss: 0.1557 - accuracy: 0.9964 - val_loss: 0.0000e+00 - val_accuracy: 1.0000\n",
            "Epoch 268/500\n",
            "2250/2250 [==============================] - 0s 206us/sample - loss: 0.3056 - accuracy: 0.9938 - val_loss: 0.0000e+00 - val_accuracy: 1.0000\n",
            "Epoch 269/500\n",
            "2250/2250 [==============================] - 0s 204us/sample - loss: 0.0689 - accuracy: 0.9969 - val_loss: 0.0000e+00 - val_accuracy: 1.0000\n",
            "Epoch 270/500\n",
            "2250/2250 [==============================] - 0s 204us/sample - loss: 0.0656 - accuracy: 0.9982 - val_loss: 0.0000e+00 - val_accuracy: 1.0000\n",
            "Epoch 271/500\n",
            "2250/2250 [==============================] - 0s 211us/sample - loss: 0.0034 - accuracy: 0.9996 - val_loss: 0.0000e+00 - val_accuracy: 1.0000\n",
            "Epoch 272/500\n",
            "2250/2250 [==============================] - 0s 209us/sample - loss: 0.0000e+00 - accuracy: 1.0000 - val_loss: 0.0000e+00 - val_accuracy: 1.0000\n",
            "Epoch 273/500\n",
            "2250/2250 [==============================] - 0s 203us/sample - loss: 0.0117 - accuracy: 0.9991 - val_loss: 0.0000e+00 - val_accuracy: 1.0000\n",
            "Epoch 274/500\n",
            "2250/2250 [==============================] - 0s 208us/sample - loss: 0.0232 - accuracy: 0.9996 - val_loss: 0.0000e+00 - val_accuracy: 1.0000\n",
            "Epoch 275/500\n",
            "2250/2250 [==============================] - 0s 207us/sample - loss: 0.0382 - accuracy: 0.9987 - val_loss: 0.0000e+00 - val_accuracy: 1.0000\n",
            "Epoch 276/500\n",
            "2250/2250 [==============================] - 0s 205us/sample - loss: 0.0150 - accuracy: 0.9991 - val_loss: 0.0000e+00 - val_accuracy: 1.0000\n",
            "Epoch 277/500\n",
            "2250/2250 [==============================] - 0s 209us/sample - loss: 0.0000e+00 - accuracy: 1.0000 - val_loss: 0.0000e+00 - val_accuracy: 1.0000\n",
            "Epoch 278/500\n",
            "2250/2250 [==============================] - 0s 210us/sample - loss: 0.0015 - accuracy: 0.9996 - val_loss: 0.0000e+00 - val_accuracy: 1.0000\n",
            "Epoch 279/500\n",
            "2250/2250 [==============================] - 0s 211us/sample - loss: 0.0031 - accuracy: 0.9996 - val_loss: 0.0000e+00 - val_accuracy: 1.0000\n",
            "Epoch 280/500\n",
            "2250/2250 [==============================] - 0s 211us/sample - loss: 0.0000e+00 - accuracy: 1.0000 - val_loss: 0.0000e+00 - val_accuracy: 1.0000\n",
            "Epoch 281/500\n",
            "2250/2250 [==============================] - 0s 205us/sample - loss: 0.0000e+00 - accuracy: 1.0000 - val_loss: 0.0000e+00 - val_accuracy: 1.0000\n",
            "Epoch 282/500\n",
            "2250/2250 [==============================] - 0s 208us/sample - loss: 6.8876e-10 - accuracy: 1.0000 - val_loss: 0.0000e+00 - val_accuracy: 1.0000\n",
            "Epoch 283/500\n",
            "2250/2250 [==============================] - 0s 207us/sample - loss: 0.0000e+00 - accuracy: 1.0000 - val_loss: 0.0000e+00 - val_accuracy: 1.0000\n",
            "Epoch 284/500\n",
            "2250/2250 [==============================] - 0s 210us/sample - loss: 6.7816e-09 - accuracy: 1.0000 - val_loss: 0.0000e+00 - val_accuracy: 1.0000\n",
            "Epoch 285/500\n",
            "2250/2250 [==============================] - 0s 207us/sample - loss: 0.0023 - accuracy: 0.9996 - val_loss: 0.0000e+00 - val_accuracy: 1.0000\n",
            "Epoch 286/500\n",
            "2250/2250 [==============================] - 0s 208us/sample - loss: 0.0000e+00 - accuracy: 1.0000 - val_loss: 0.0000e+00 - val_accuracy: 1.0000\n",
            "Epoch 287/500\n",
            "2250/2250 [==============================] - 0s 211us/sample - loss: 0.0012 - accuracy: 0.9996 - val_loss: 0.0000e+00 - val_accuracy: 1.0000\n",
            "Epoch 288/500\n",
            "2250/2250 [==============================] - 0s 212us/sample - loss: 0.0000e+00 - accuracy: 1.0000 - val_loss: 0.0000e+00 - val_accuracy: 1.0000\n",
            "Epoch 289/500\n",
            "2250/2250 [==============================] - 0s 210us/sample - loss: 0.0488 - accuracy: 0.9996 - val_loss: 0.0000e+00 - val_accuracy: 1.0000\n",
            "Epoch 290/500\n",
            "2250/2250 [==============================] - 0s 206us/sample - loss: 0.0085 - accuracy: 0.9991 - val_loss: 0.0000e+00 - val_accuracy: 1.0000\n",
            "Epoch 291/500\n",
            "2250/2250 [==============================] - 0s 210us/sample - loss: 0.0220 - accuracy: 0.9991 - val_loss: 0.0000e+00 - val_accuracy: 1.0000\n",
            "Epoch 292/500\n",
            "2250/2250 [==============================] - 0s 207us/sample - loss: 0.0733 - accuracy: 0.9996 - val_loss: 0.0000e+00 - val_accuracy: 1.0000\n",
            "Epoch 293/500\n",
            "2250/2250 [==============================] - 0s 202us/sample - loss: 0.0061 - accuracy: 0.9996 - val_loss: 0.0000e+00 - val_accuracy: 1.0000\n",
            "Epoch 294/500\n",
            "2250/2250 [==============================] - 0s 206us/sample - loss: 0.0173 - accuracy: 0.9991 - val_loss: 0.0000e+00 - val_accuracy: 1.0000\n",
            "Epoch 295/500\n",
            "2250/2250 [==============================] - 0s 208us/sample - loss: 2.7089e-04 - accuracy: 1.0000 - val_loss: 0.0000e+00 - val_accuracy: 1.0000\n",
            "Epoch 296/500\n",
            "2250/2250 [==============================] - 0s 208us/sample - loss: 0.0000e+00 - accuracy: 1.0000 - val_loss: 0.0000e+00 - val_accuracy: 1.0000\n",
            "Epoch 297/500\n",
            "2250/2250 [==============================] - 0s 206us/sample - loss: 0.0000e+00 - accuracy: 1.0000 - val_loss: 0.0000e+00 - val_accuracy: 1.0000\n",
            "Epoch 298/500\n",
            "2250/2250 [==============================] - 0s 210us/sample - loss: 0.0000e+00 - accuracy: 1.0000 - val_loss: 0.0000e+00 - val_accuracy: 1.0000\n",
            "Epoch 299/500\n",
            "2250/2250 [==============================] - 0s 208us/sample - loss: 0.0000e+00 - accuracy: 1.0000 - val_loss: 0.0000e+00 - val_accuracy: 1.0000\n",
            "Epoch 300/500\n",
            "2250/2250 [==============================] - 0s 209us/sample - loss: 0.0273 - accuracy: 0.9996 - val_loss: 0.0000e+00 - val_accuracy: 1.0000\n",
            "Epoch 301/500\n",
            "2250/2250 [==============================] - 0s 210us/sample - loss: 0.0203 - accuracy: 0.9996 - val_loss: 0.0000e+00 - val_accuracy: 1.0000\n",
            "Epoch 302/500\n",
            "2250/2250 [==============================] - 0s 208us/sample - loss: 0.0891 - accuracy: 0.9991 - val_loss: 0.0000e+00 - val_accuracy: 1.0000\n",
            "Epoch 303/500\n",
            "2250/2250 [==============================] - 0s 207us/sample - loss: 0.0132 - accuracy: 0.9991 - val_loss: 0.0000e+00 - val_accuracy: 1.0000\n",
            "Epoch 304/500\n",
            "2250/2250 [==============================] - 0s 202us/sample - loss: 0.0092 - accuracy: 0.9996 - val_loss: 0.0000e+00 - val_accuracy: 1.0000\n",
            "Epoch 305/500\n",
            "2250/2250 [==============================] - 0s 207us/sample - loss: 0.0128 - accuracy: 0.9991 - val_loss: 0.0000e+00 - val_accuracy: 1.0000\n",
            "Epoch 306/500\n",
            "2250/2250 [==============================] - 0s 207us/sample - loss: 0.0211 - accuracy: 0.9996 - val_loss: 0.0000e+00 - val_accuracy: 1.0000\n",
            "Epoch 307/500\n",
            "2250/2250 [==============================] - 0s 209us/sample - loss: 0.0000e+00 - accuracy: 1.0000 - val_loss: 0.0000e+00 - val_accuracy: 1.0000\n",
            "Epoch 308/500\n",
            "2250/2250 [==============================] - 0s 207us/sample - loss: 0.0674 - accuracy: 0.9991 - val_loss: 0.0000e+00 - val_accuracy: 1.0000\n",
            "Epoch 309/500\n",
            "2250/2250 [==============================] - 0s 205us/sample - loss: 0.0219 - accuracy: 0.9991 - val_loss: 0.0000e+00 - val_accuracy: 1.0000\n",
            "Epoch 310/500\n",
            "2250/2250 [==============================] - 0s 209us/sample - loss: 0.0058 - accuracy: 0.9996 - val_loss: 0.0000e+00 - val_accuracy: 1.0000\n",
            "Epoch 311/500\n",
            "2250/2250 [==============================] - 0s 214us/sample - loss: 0.0121 - accuracy: 0.9996 - val_loss: 0.0000e+00 - val_accuracy: 1.0000\n",
            "Epoch 312/500\n",
            "2250/2250 [==============================] - 0s 206us/sample - loss: 1.3293e-04 - accuracy: 1.0000 - val_loss: 0.0000e+00 - val_accuracy: 1.0000\n",
            "Epoch 313/500\n",
            "2250/2250 [==============================] - 0s 203us/sample - loss: 4.3019e-08 - accuracy: 1.0000 - val_loss: 0.0000e+00 - val_accuracy: 1.0000\n",
            "Epoch 314/500\n",
            "2250/2250 [==============================] - 0s 206us/sample - loss: 0.0000e+00 - accuracy: 1.0000 - val_loss: 0.0000e+00 - val_accuracy: 1.0000\n",
            "Epoch 315/500\n",
            "2250/2250 [==============================] - 0s 211us/sample - loss: 0.0014 - accuracy: 0.9996 - val_loss: 0.0000e+00 - val_accuracy: 1.0000\n",
            "Epoch 316/500\n",
            "2250/2250 [==============================] - 0s 210us/sample - loss: 0.0000e+00 - accuracy: 1.0000 - val_loss: 0.0000e+00 - val_accuracy: 1.0000\n",
            "Epoch 317/500\n",
            "2250/2250 [==============================] - 0s 206us/sample - loss: 0.0000e+00 - accuracy: 1.0000 - val_loss: 0.0000e+00 - val_accuracy: 1.0000\n",
            "Epoch 318/500\n",
            "2250/2250 [==============================] - 0s 206us/sample - loss: 0.0000e+00 - accuracy: 1.0000 - val_loss: 0.0000e+00 - val_accuracy: 1.0000\n",
            "Epoch 319/500\n",
            "2250/2250 [==============================] - 0s 205us/sample - loss: 0.0000e+00 - accuracy: 1.0000 - val_loss: 0.0000e+00 - val_accuracy: 1.0000\n",
            "Epoch 320/500\n",
            "2250/2250 [==============================] - 0s 205us/sample - loss: 0.0216 - accuracy: 0.9996 - val_loss: 0.0000e+00 - val_accuracy: 1.0000\n",
            "Epoch 321/500\n",
            "2250/2250 [==============================] - 0s 208us/sample - loss: 0.0118 - accuracy: 0.9996 - val_loss: 0.0000e+00 - val_accuracy: 1.0000\n",
            "Epoch 322/500\n",
            "2250/2250 [==============================] - 0s 212us/sample - loss: 0.0000e+00 - accuracy: 1.0000 - val_loss: 0.0000e+00 - val_accuracy: 1.0000\n",
            "Epoch 323/500\n",
            "2250/2250 [==============================] - 0s 204us/sample - loss: 5.2982e-11 - accuracy: 1.0000 - val_loss: 0.0000e+00 - val_accuracy: 1.0000\n",
            "Epoch 324/500\n",
            "2250/2250 [==============================] - 0s 210us/sample - loss: 0.0000e+00 - accuracy: 1.0000 - val_loss: 0.0000e+00 - val_accuracy: 1.0000\n",
            "Epoch 325/500\n",
            "2250/2250 [==============================] - 0s 213us/sample - loss: 0.0000e+00 - accuracy: 1.0000 - val_loss: 0.0000e+00 - val_accuracy: 1.0000\n",
            "Epoch 326/500\n",
            "2250/2250 [==============================] - 0s 208us/sample - loss: 0.0000e+00 - accuracy: 1.0000 - val_loss: 0.0000e+00 - val_accuracy: 1.0000\n",
            "Epoch 327/500\n",
            "2250/2250 [==============================] - 0s 203us/sample - loss: 0.0228 - accuracy: 0.9996 - val_loss: 0.0000e+00 - val_accuracy: 1.0000\n",
            "Epoch 328/500\n",
            "2250/2250 [==============================] - 0s 204us/sample - loss: 0.0482 - accuracy: 0.9991 - val_loss: 0.0000e+00 - val_accuracy: 1.0000\n",
            "Epoch 329/500\n",
            "2250/2250 [==============================] - 0s 203us/sample - loss: 0.0000e+00 - accuracy: 1.0000 - val_loss: 0.0000e+00 - val_accuracy: 1.0000\n",
            "Epoch 330/500\n",
            "2250/2250 [==============================] - 0s 207us/sample - loss: 0.0012 - accuracy: 0.9996 - val_loss: 0.0000e+00 - val_accuracy: 1.0000\n",
            "Epoch 331/500\n",
            "2250/2250 [==============================] - 0s 207us/sample - loss: 0.0000e+00 - accuracy: 1.0000 - val_loss: 0.0000e+00 - val_accuracy: 1.0000\n",
            "Epoch 332/500\n",
            "2250/2250 [==============================] - 0s 203us/sample - loss: 0.0000e+00 - accuracy: 1.0000 - val_loss: 0.0000e+00 - val_accuracy: 1.0000\n",
            "Epoch 333/500\n",
            "2250/2250 [==============================] - 0s 210us/sample - loss: 0.0000e+00 - accuracy: 1.0000 - val_loss: 0.0000e+00 - val_accuracy: 1.0000\n",
            "Epoch 334/500\n",
            "2250/2250 [==============================] - 0s 213us/sample - loss: 0.0000e+00 - accuracy: 1.0000 - val_loss: 0.0000e+00 - val_accuracy: 1.0000\n",
            "Epoch 335/500\n",
            "2250/2250 [==============================] - 0s 211us/sample - loss: 0.0000e+00 - accuracy: 1.0000 - val_loss: 0.0000e+00 - val_accuracy: 1.0000\n",
            "Epoch 336/500\n",
            "2250/2250 [==============================] - 0s 215us/sample - loss: 0.0057 - accuracy: 0.9996 - val_loss: 0.0000e+00 - val_accuracy: 1.0000\n",
            "Epoch 337/500\n",
            "2250/2250 [==============================] - 0s 208us/sample - loss: 0.0042 - accuracy: 0.9991 - val_loss: 0.0000e+00 - val_accuracy: 1.0000\n",
            "Epoch 338/500\n",
            "2250/2250 [==============================] - 0s 208us/sample - loss: 0.0000e+00 - accuracy: 1.0000 - val_loss: 0.0000e+00 - val_accuracy: 1.0000\n",
            "Epoch 339/500\n",
            "2250/2250 [==============================] - 0s 214us/sample - loss: 0.0000e+00 - accuracy: 1.0000 - val_loss: 0.0000e+00 - val_accuracy: 1.0000\n",
            "Epoch 340/500\n",
            "2250/2250 [==============================] - 0s 211us/sample - loss: 8.4771e-10 - accuracy: 1.0000 - val_loss: 0.0000e+00 - val_accuracy: 1.0000\n",
            "Epoch 341/500\n",
            "2250/2250 [==============================] - 0s 211us/sample - loss: 0.0000e+00 - accuracy: 1.0000 - val_loss: 0.0000e+00 - val_accuracy: 1.0000\n",
            "Epoch 342/500\n",
            "2250/2250 [==============================] - 0s 213us/sample - loss: 0.0000e+00 - accuracy: 1.0000 - val_loss: 0.0000e+00 - val_accuracy: 1.0000\n",
            "Epoch 343/500\n",
            "2250/2250 [==============================] - 0s 218us/sample - loss: 0.0000e+00 - accuracy: 1.0000 - val_loss: 0.0000e+00 - val_accuracy: 1.0000\n",
            "Epoch 344/500\n",
            "2250/2250 [==============================] - 0s 213us/sample - loss: 0.0000e+00 - accuracy: 1.0000 - val_loss: 0.0000e+00 - val_accuracy: 1.0000\n",
            "Epoch 345/500\n",
            "2250/2250 [==============================] - 0s 214us/sample - loss: 0.0000e+00 - accuracy: 1.0000 - val_loss: 0.0000e+00 - val_accuracy: 1.0000\n",
            "Epoch 346/500\n",
            "2250/2250 [==============================] - 0s 213us/sample - loss: 0.0000e+00 - accuracy: 1.0000 - val_loss: 0.0000e+00 - val_accuracy: 1.0000\n",
            "Epoch 347/500\n",
            "2250/2250 [==============================] - 0s 212us/sample - loss: 0.0000e+00 - accuracy: 1.0000 - val_loss: 0.0000e+00 - val_accuracy: 1.0000\n",
            "Epoch 348/500\n",
            "2250/2250 [==============================] - 0s 212us/sample - loss: 0.0000e+00 - accuracy: 1.0000 - val_loss: 0.0000e+00 - val_accuracy: 1.0000\n",
            "Epoch 349/500\n",
            "2250/2250 [==============================] - 0s 210us/sample - loss: 0.0000e+00 - accuracy: 1.0000 - val_loss: 0.0000e+00 - val_accuracy: 1.0000\n",
            "Epoch 350/500\n",
            "2250/2250 [==============================] - 0s 215us/sample - loss: 2.6702e-08 - accuracy: 1.0000 - val_loss: 0.0000e+00 - val_accuracy: 1.0000\n",
            "Epoch 351/500\n",
            "2250/2250 [==============================] - 0s 210us/sample - loss: 0.0000e+00 - accuracy: 1.0000 - val_loss: 0.0000e+00 - val_accuracy: 1.0000\n",
            "Epoch 352/500\n",
            "2250/2250 [==============================] - 0s 209us/sample - loss: 0.0000e+00 - accuracy: 1.0000 - val_loss: 0.0000e+00 - val_accuracy: 1.0000\n",
            "Epoch 353/500\n",
            "2250/2250 [==============================] - 0s 208us/sample - loss: 0.0000e+00 - accuracy: 1.0000 - val_loss: 0.0000e+00 - val_accuracy: 1.0000\n",
            "Epoch 354/500\n",
            "2250/2250 [==============================] - 0s 212us/sample - loss: 0.0000e+00 - accuracy: 1.0000 - val_loss: 0.0000e+00 - val_accuracy: 1.0000\n",
            "Epoch 355/500\n",
            "2250/2250 [==============================] - 0s 208us/sample - loss: 0.0000e+00 - accuracy: 1.0000 - val_loss: 0.0000e+00 - val_accuracy: 1.0000\n",
            "Epoch 356/500\n",
            "2250/2250 [==============================] - 0s 209us/sample - loss: 0.0000e+00 - accuracy: 1.0000 - val_loss: 0.0000e+00 - val_accuracy: 1.0000\n",
            "Epoch 357/500\n",
            "2250/2250 [==============================] - 0s 206us/sample - loss: 0.0111 - accuracy: 0.9996 - val_loss: 0.0000e+00 - val_accuracy: 1.0000\n",
            "Epoch 358/500\n",
            "2250/2250 [==============================] - 0s 209us/sample - loss: 0.0717 - accuracy: 0.9991 - val_loss: 0.0000e+00 - val_accuracy: 1.0000\n",
            "Epoch 359/500\n",
            "2250/2250 [==============================] - 0s 205us/sample - loss: 0.0000e+00 - accuracy: 1.0000 - val_loss: 0.0000e+00 - val_accuracy: 1.0000\n",
            "Epoch 360/500\n",
            "2250/2250 [==============================] - 0s 207us/sample - loss: 2.9649e-04 - accuracy: 1.0000 - val_loss: 0.0000e+00 - val_accuracy: 1.0000\n",
            "Epoch 361/500\n",
            "2250/2250 [==============================] - 0s 209us/sample - loss: 0.0000e+00 - accuracy: 1.0000 - val_loss: 0.0000e+00 - val_accuracy: 1.0000\n",
            "Epoch 362/500\n",
            "2250/2250 [==============================] - 0s 206us/sample - loss: 0.0000e+00 - accuracy: 1.0000 - val_loss: 0.0000e+00 - val_accuracy: 1.0000\n",
            "Epoch 363/500\n",
            "2250/2250 [==============================] - 0s 206us/sample - loss: 0.0000e+00 - accuracy: 1.0000 - val_loss: 0.0000e+00 - val_accuracy: 1.0000\n",
            "Epoch 364/500\n",
            "2250/2250 [==============================] - 0s 205us/sample - loss: 0.0000e+00 - accuracy: 1.0000 - val_loss: 0.0000e+00 - val_accuracy: 1.0000\n",
            "Epoch 365/500\n",
            "2250/2250 [==============================] - 0s 205us/sample - loss: 0.0000e+00 - accuracy: 1.0000 - val_loss: 0.0000e+00 - val_accuracy: 1.0000\n",
            "Epoch 366/500\n",
            "2250/2250 [==============================] - 0s 209us/sample - loss: 0.0000e+00 - accuracy: 1.0000 - val_loss: 0.0000e+00 - val_accuracy: 1.0000\n",
            "Epoch 367/500\n",
            "2250/2250 [==============================] - 0s 207us/sample - loss: 0.0000e+00 - accuracy: 1.0000 - val_loss: 0.0000e+00 - val_accuracy: 1.0000\n",
            "Epoch 368/500\n",
            "2250/2250 [==============================] - 0s 210us/sample - loss: 0.0000e+00 - accuracy: 1.0000 - val_loss: 0.0000e+00 - val_accuracy: 1.0000\n",
            "Epoch 369/500\n",
            "2250/2250 [==============================] - 0s 211us/sample - loss: 0.0000e+00 - accuracy: 1.0000 - val_loss: 0.0000e+00 - val_accuracy: 1.0000\n",
            "Epoch 370/500\n",
            "2250/2250 [==============================] - 0s 208us/sample - loss: 0.0000e+00 - accuracy: 1.0000 - val_loss: 0.0000e+00 - val_accuracy: 1.0000\n",
            "Epoch 371/500\n",
            "2250/2250 [==============================] - 0s 206us/sample - loss: 0.0000e+00 - accuracy: 1.0000 - val_loss: 0.0000e+00 - val_accuracy: 1.0000\n",
            "Epoch 372/500\n",
            "2250/2250 [==============================] - 0s 205us/sample - loss: 0.0000e+00 - accuracy: 1.0000 - val_loss: 0.0000e+00 - val_accuracy: 1.0000\n",
            "Epoch 373/500\n",
            "2250/2250 [==============================] - 0s 202us/sample - loss: 0.0000e+00 - accuracy: 1.0000 - val_loss: 0.0000e+00 - val_accuracy: 1.0000\n",
            "Epoch 374/500\n",
            "2250/2250 [==============================] - 0s 208us/sample - loss: 0.0000e+00 - accuracy: 1.0000 - val_loss: 0.0000e+00 - val_accuracy: 1.0000\n",
            "Epoch 375/500\n",
            "2250/2250 [==============================] - 0s 206us/sample - loss: 0.0000e+00 - accuracy: 1.0000 - val_loss: 0.0000e+00 - val_accuracy: 1.0000\n",
            "Epoch 376/500\n",
            "2250/2250 [==============================] - 0s 205us/sample - loss: 0.0000e+00 - accuracy: 1.0000 - val_loss: 0.0000e+00 - val_accuracy: 1.0000\n",
            "Epoch 377/500\n",
            "2250/2250 [==============================] - 0s 204us/sample - loss: 0.0000e+00 - accuracy: 1.0000 - val_loss: 0.0000e+00 - val_accuracy: 1.0000\n",
            "Epoch 378/500\n",
            "2250/2250 [==============================] - 0s 208us/sample - loss: 0.0000e+00 - accuracy: 1.0000 - val_loss: 0.0000e+00 - val_accuracy: 1.0000\n",
            "Epoch 379/500\n",
            "2250/2250 [==============================] - 0s 207us/sample - loss: 0.0000e+00 - accuracy: 1.0000 - val_loss: 0.0000e+00 - val_accuracy: 1.0000\n",
            "Epoch 380/500\n",
            "2250/2250 [==============================] - 0s 206us/sample - loss: 0.0000e+00 - accuracy: 1.0000 - val_loss: 0.0000e+00 - val_accuracy: 1.0000\n",
            "Epoch 381/500\n",
            "2250/2250 [==============================] - 0s 205us/sample - loss: 0.0000e+00 - accuracy: 1.0000 - val_loss: 0.0000e+00 - val_accuracy: 1.0000\n",
            "Epoch 382/500\n",
            "2250/2250 [==============================] - 0s 205us/sample - loss: 0.0000e+00 - accuracy: 1.0000 - val_loss: 0.0000e+00 - val_accuracy: 1.0000\n",
            "Epoch 383/500\n",
            "2250/2250 [==============================] - 0s 213us/sample - loss: 0.0000e+00 - accuracy: 1.0000 - val_loss: 0.0000e+00 - val_accuracy: 1.0000\n",
            "Epoch 384/500\n",
            "2250/2250 [==============================] - 0s 210us/sample - loss: 0.0000e+00 - accuracy: 1.0000 - val_loss: 0.0000e+00 - val_accuracy: 1.0000\n",
            "Epoch 385/500\n",
            "2250/2250 [==============================] - 0s 209us/sample - loss: 0.0000e+00 - accuracy: 1.0000 - val_loss: 0.0000e+00 - val_accuracy: 1.0000\n",
            "Epoch 386/500\n",
            "2250/2250 [==============================] - 0s 211us/sample - loss: 0.0000e+00 - accuracy: 1.0000 - val_loss: 0.0000e+00 - val_accuracy: 1.0000\n",
            "Epoch 387/500\n",
            "2250/2250 [==============================] - 0s 208us/sample - loss: 0.0000e+00 - accuracy: 1.0000 - val_loss: 0.0000e+00 - val_accuracy: 1.0000\n",
            "Epoch 388/500\n",
            "2250/2250 [==============================] - 0s 207us/sample - loss: 0.0000e+00 - accuracy: 1.0000 - val_loss: 0.0000e+00 - val_accuracy: 1.0000\n",
            "Epoch 389/500\n",
            "2250/2250 [==============================] - 0s 210us/sample - loss: 0.0000e+00 - accuracy: 1.0000 - val_loss: 0.0000e+00 - val_accuracy: 1.0000\n",
            "Epoch 390/500\n",
            "2250/2250 [==============================] - 0s 207us/sample - loss: 0.0000e+00 - accuracy: 1.0000 - val_loss: 0.0000e+00 - val_accuracy: 1.0000\n",
            "Epoch 391/500\n",
            "2250/2250 [==============================] - 0s 206us/sample - loss: 0.0000e+00 - accuracy: 1.0000 - val_loss: 0.0000e+00 - val_accuracy: 1.0000\n",
            "Epoch 392/500\n",
            "2250/2250 [==============================] - 0s 207us/sample - loss: 0.0000e+00 - accuracy: 1.0000 - val_loss: 0.0000e+00 - val_accuracy: 1.0000\n",
            "Epoch 393/500\n",
            "2250/2250 [==============================] - 0s 205us/sample - loss: 0.0000e+00 - accuracy: 1.0000 - val_loss: 0.0000e+00 - val_accuracy: 1.0000\n",
            "Epoch 394/500\n",
            "2250/2250 [==============================] - 0s 209us/sample - loss: 0.0000e+00 - accuracy: 1.0000 - val_loss: 0.0000e+00 - val_accuracy: 1.0000\n",
            "Epoch 395/500\n",
            "2250/2250 [==============================] - 0s 206us/sample - loss: 0.0000e+00 - accuracy: 1.0000 - val_loss: 0.0000e+00 - val_accuracy: 1.0000\n",
            "Epoch 396/500\n",
            "2250/2250 [==============================] - 0s 204us/sample - loss: 0.0000e+00 - accuracy: 1.0000 - val_loss: 0.0000e+00 - val_accuracy: 1.0000\n",
            "Epoch 397/500\n",
            "2250/2250 [==============================] - 0s 212us/sample - loss: 0.0000e+00 - accuracy: 1.0000 - val_loss: 0.0000e+00 - val_accuracy: 1.0000\n",
            "Epoch 398/500\n",
            "2250/2250 [==============================] - 0s 206us/sample - loss: 0.0000e+00 - accuracy: 1.0000 - val_loss: 0.0000e+00 - val_accuracy: 1.0000\n",
            "Epoch 399/500\n",
            "2250/2250 [==============================] - 0s 207us/sample - loss: 0.0000e+00 - accuracy: 1.0000 - val_loss: 0.0000e+00 - val_accuracy: 1.0000\n",
            "Epoch 400/500\n",
            "2250/2250 [==============================] - 0s 208us/sample - loss: 0.0000e+00 - accuracy: 1.0000 - val_loss: 0.0000e+00 - val_accuracy: 1.0000\n",
            "Epoch 401/500\n",
            "2250/2250 [==============================] - 0s 206us/sample - loss: 0.0000e+00 - accuracy: 1.0000 - val_loss: 0.0000e+00 - val_accuracy: 1.0000\n",
            "Epoch 402/500\n",
            "2250/2250 [==============================] - 0s 209us/sample - loss: 0.0000e+00 - accuracy: 1.0000 - val_loss: 0.0000e+00 - val_accuracy: 1.0000\n",
            "Epoch 403/500\n",
            "2250/2250 [==============================] - 0s 206us/sample - loss: 0.0000e+00 - accuracy: 1.0000 - val_loss: 0.0000e+00 - val_accuracy: 1.0000\n",
            "Epoch 404/500\n",
            "2250/2250 [==============================] - 0s 209us/sample - loss: 0.0000e+00 - accuracy: 1.0000 - val_loss: 0.0000e+00 - val_accuracy: 1.0000\n",
            "Epoch 405/500\n",
            "2250/2250 [==============================] - 0s 209us/sample - loss: 0.0000e+00 - accuracy: 1.0000 - val_loss: 0.0000e+00 - val_accuracy: 1.0000\n",
            "Epoch 406/500\n",
            "2250/2250 [==============================] - 0s 209us/sample - loss: 0.0000e+00 - accuracy: 1.0000 - val_loss: 0.0000e+00 - val_accuracy: 1.0000\n",
            "Epoch 407/500\n",
            "2250/2250 [==============================] - 0s 213us/sample - loss: 0.0000e+00 - accuracy: 1.0000 - val_loss: 0.0000e+00 - val_accuracy: 1.0000\n",
            "Epoch 408/500\n",
            "2250/2250 [==============================] - 0s 212us/sample - loss: 0.0000e+00 - accuracy: 1.0000 - val_loss: 0.0000e+00 - val_accuracy: 1.0000\n",
            "Epoch 409/500\n",
            "2250/2250 [==============================] - 0s 212us/sample - loss: 0.0000e+00 - accuracy: 1.0000 - val_loss: 0.0000e+00 - val_accuracy: 1.0000\n",
            "Epoch 410/500\n",
            "2250/2250 [==============================] - 0s 213us/sample - loss: 0.0000e+00 - accuracy: 1.0000 - val_loss: 0.0000e+00 - val_accuracy: 1.0000\n",
            "Epoch 411/500\n",
            "2250/2250 [==============================] - 0s 206us/sample - loss: 0.0000e+00 - accuracy: 1.0000 - val_loss: 0.0000e+00 - val_accuracy: 1.0000\n",
            "Epoch 412/500\n",
            "2250/2250 [==============================] - 0s 215us/sample - loss: 0.0000e+00 - accuracy: 1.0000 - val_loss: 0.0000e+00 - val_accuracy: 1.0000\n",
            "Epoch 413/500\n",
            "2250/2250 [==============================] - 0s 217us/sample - loss: 0.0157 - accuracy: 0.9996 - val_loss: 0.0000e+00 - val_accuracy: 1.0000\n",
            "Epoch 414/500\n",
            "2250/2250 [==============================] - 0s 216us/sample - loss: 0.0000e+00 - accuracy: 1.0000 - val_loss: 0.0000e+00 - val_accuracy: 1.0000\n",
            "Epoch 415/500\n",
            "2250/2250 [==============================] - 0s 208us/sample - loss: 0.0000e+00 - accuracy: 1.0000 - val_loss: 0.0000e+00 - val_accuracy: 1.0000\n",
            "Epoch 416/500\n",
            "2250/2250 [==============================] - 0s 215us/sample - loss: 0.0000e+00 - accuracy: 1.0000 - val_loss: 0.0000e+00 - val_accuracy: 1.0000\n",
            "Epoch 417/500\n",
            "2250/2250 [==============================] - 0s 210us/sample - loss: 0.0000e+00 - accuracy: 1.0000 - val_loss: 0.0000e+00 - val_accuracy: 1.0000\n",
            "Epoch 418/500\n",
            "2250/2250 [==============================] - 0s 211us/sample - loss: 0.0000e+00 - accuracy: 1.0000 - val_loss: 0.0000e+00 - val_accuracy: 1.0000\n",
            "Epoch 419/500\n",
            "2250/2250 [==============================] - 0s 209us/sample - loss: 0.0000e+00 - accuracy: 1.0000 - val_loss: 0.0000e+00 - val_accuracy: 1.0000\n",
            "Epoch 420/500\n",
            "2250/2250 [==============================] - 0s 207us/sample - loss: 0.0000e+00 - accuracy: 1.0000 - val_loss: 0.0000e+00 - val_accuracy: 1.0000\n",
            "Epoch 421/500\n",
            "2250/2250 [==============================] - 0s 207us/sample - loss: 0.0000e+00 - accuracy: 1.0000 - val_loss: 0.0000e+00 - val_accuracy: 1.0000\n",
            "Epoch 422/500\n",
            "2250/2250 [==============================] - 0s 207us/sample - loss: 0.0000e+00 - accuracy: 1.0000 - val_loss: 0.0000e+00 - val_accuracy: 1.0000\n",
            "Epoch 423/500\n",
            "2250/2250 [==============================] - 0s 207us/sample - loss: 0.0000e+00 - accuracy: 1.0000 - val_loss: 0.0000e+00 - val_accuracy: 1.0000\n",
            "Epoch 424/500\n",
            "2250/2250 [==============================] - 0s 205us/sample - loss: 5.0012e-05 - accuracy: 1.0000 - val_loss: 0.0000e+00 - val_accuracy: 1.0000\n",
            "Epoch 425/500\n",
            "2250/2250 [==============================] - 0s 204us/sample - loss: 0.0461 - accuracy: 0.9996 - val_loss: 0.0000e+00 - val_accuracy: 1.0000\n",
            "Epoch 426/500\n",
            "2250/2250 [==============================] - 0s 202us/sample - loss: 0.1156 - accuracy: 0.9996 - val_loss: 0.0000e+00 - val_accuracy: 1.0000\n",
            "Epoch 427/500\n",
            "2250/2250 [==============================] - 0s 205us/sample - loss: 0.0000e+00 - accuracy: 1.0000 - val_loss: 0.0000e+00 - val_accuracy: 1.0000\n",
            "Epoch 428/500\n",
            "2250/2250 [==============================] - 0s 211us/sample - loss: 0.0121 - accuracy: 0.9987 - val_loss: 0.0000e+00 - val_accuracy: 1.0000\n",
            "Epoch 429/500\n",
            "2250/2250 [==============================] - 0s 206us/sample - loss: 0.2305 - accuracy: 0.9987 - val_loss: 0.0000e+00 - val_accuracy: 1.0000\n",
            "Epoch 430/500\n",
            "2250/2250 [==============================] - 0s 208us/sample - loss: 0.0569 - accuracy: 0.9991 - val_loss: 0.0000e+00 - val_accuracy: 1.0000\n",
            "Epoch 431/500\n",
            "2250/2250 [==============================] - 0s 208us/sample - loss: 0.0801 - accuracy: 0.9982 - val_loss: 0.0000e+00 - val_accuracy: 1.0000\n",
            "Epoch 432/500\n",
            "2250/2250 [==============================] - 0s 205us/sample - loss: 0.1340 - accuracy: 0.9973 - val_loss: 0.0000e+00 - val_accuracy: 1.0000\n",
            "Epoch 433/500\n",
            "2250/2250 [==============================] - 0s 208us/sample - loss: 0.0297 - accuracy: 0.9996 - val_loss: 0.0000e+00 - val_accuracy: 1.0000\n",
            "Epoch 434/500\n",
            "2250/2250 [==============================] - 0s 208us/sample - loss: 0.0104 - accuracy: 0.9996 - val_loss: 0.0000e+00 - val_accuracy: 1.0000\n",
            "Epoch 435/500\n",
            "2250/2250 [==============================] - 0s 204us/sample - loss: 0.0038 - accuracy: 0.9991 - val_loss: 0.0000e+00 - val_accuracy: 1.0000\n",
            "Epoch 436/500\n",
            "2250/2250 [==============================] - 0s 207us/sample - loss: 0.0163 - accuracy: 0.9987 - val_loss: 0.0000e+00 - val_accuracy: 1.0000\n",
            "Epoch 437/500\n",
            "2250/2250 [==============================] - 0s 206us/sample - loss: 0.0107 - accuracy: 0.9991 - val_loss: 0.0000e+00 - val_accuracy: 1.0000\n",
            "Epoch 438/500\n",
            "2250/2250 [==============================] - 0s 207us/sample - loss: 0.0000e+00 - accuracy: 1.0000 - val_loss: 0.0000e+00 - val_accuracy: 1.0000\n",
            "Epoch 439/500\n",
            "2250/2250 [==============================] - 0s 210us/sample - loss: 0.0000e+00 - accuracy: 1.0000 - val_loss: 0.0000e+00 - val_accuracy: 1.0000\n",
            "Epoch 440/500\n",
            "2250/2250 [==============================] - 0s 209us/sample - loss: 0.0000e+00 - accuracy: 1.0000 - val_loss: 0.0000e+00 - val_accuracy: 1.0000\n",
            "Epoch 441/500\n",
            "2250/2250 [==============================] - 0s 201us/sample - loss: 0.0000e+00 - accuracy: 1.0000 - val_loss: 0.0000e+00 - val_accuracy: 1.0000\n",
            "Epoch 442/500\n",
            "2250/2250 [==============================] - 0s 207us/sample - loss: 0.0000e+00 - accuracy: 1.0000 - val_loss: 0.0000e+00 - val_accuracy: 1.0000\n",
            "Epoch 443/500\n",
            "2250/2250 [==============================] - 0s 204us/sample - loss: 0.0115 - accuracy: 0.9996 - val_loss: 0.0000e+00 - val_accuracy: 1.0000\n",
            "Epoch 444/500\n",
            "2250/2250 [==============================] - 0s 207us/sample - loss: 0.0000e+00 - accuracy: 1.0000 - val_loss: 0.0000e+00 - val_accuracy: 1.0000\n",
            "Epoch 445/500\n",
            "2250/2250 [==============================] - 0s 201us/sample - loss: 0.0000e+00 - accuracy: 1.0000 - val_loss: 0.0000e+00 - val_accuracy: 1.0000\n",
            "Epoch 446/500\n",
            "2250/2250 [==============================] - 0s 210us/sample - loss: 0.0000e+00 - accuracy: 1.0000 - val_loss: 0.0000e+00 - val_accuracy: 1.0000\n",
            "Epoch 447/500\n",
            "2250/2250 [==============================] - 0s 207us/sample - loss: 0.0000e+00 - accuracy: 1.0000 - val_loss: 0.0000e+00 - val_accuracy: 1.0000\n",
            "Epoch 448/500\n",
            "2250/2250 [==============================] - 0s 211us/sample - loss: 0.0000e+00 - accuracy: 1.0000 - val_loss: 0.0000e+00 - val_accuracy: 1.0000\n",
            "Epoch 449/500\n",
            "2250/2250 [==============================] - 0s 209us/sample - loss: 0.0000e+00 - accuracy: 1.0000 - val_loss: 0.0000e+00 - val_accuracy: 1.0000\n",
            "Epoch 450/500\n",
            "2250/2250 [==============================] - 0s 207us/sample - loss: 0.0000e+00 - accuracy: 1.0000 - val_loss: 0.0000e+00 - val_accuracy: 1.0000\n",
            "Epoch 451/500\n",
            "2250/2250 [==============================] - 0s 210us/sample - loss: 0.0000e+00 - accuracy: 1.0000 - val_loss: 0.0000e+00 - val_accuracy: 1.0000\n",
            "Epoch 452/500\n",
            "2250/2250 [==============================] - 0s 209us/sample - loss: 0.0000e+00 - accuracy: 1.0000 - val_loss: 0.0000e+00 - val_accuracy: 1.0000\n",
            "Epoch 453/500\n",
            "2250/2250 [==============================] - 0s 207us/sample - loss: 0.0000e+00 - accuracy: 1.0000 - val_loss: 0.0000e+00 - val_accuracy: 1.0000\n",
            "Epoch 454/500\n",
            "2250/2250 [==============================] - 0s 204us/sample - loss: 0.0000e+00 - accuracy: 1.0000 - val_loss: 0.0000e+00 - val_accuracy: 1.0000\n",
            "Epoch 455/500\n",
            "2250/2250 [==============================] - 0s 207us/sample - loss: 0.0294 - accuracy: 0.9996 - val_loss: 0.0000e+00 - val_accuracy: 1.0000\n",
            "Epoch 456/500\n",
            "2250/2250 [==============================] - 0s 205us/sample - loss: 0.0000e+00 - accuracy: 1.0000 - val_loss: 0.0000e+00 - val_accuracy: 1.0000\n",
            "Epoch 457/500\n",
            "2250/2250 [==============================] - 0s 210us/sample - loss: 0.0271 - accuracy: 0.9996 - val_loss: 0.0000e+00 - val_accuracy: 1.0000\n",
            "Epoch 458/500\n",
            "2250/2250 [==============================] - 0s 202us/sample - loss: 0.0343 - accuracy: 0.9996 - val_loss: 0.0000e+00 - val_accuracy: 1.0000\n",
            "Epoch 459/500\n",
            "2250/2250 [==============================] - 0s 205us/sample - loss: 0.0000e+00 - accuracy: 1.0000 - val_loss: 0.0000e+00 - val_accuracy: 1.0000\n",
            "Epoch 460/500\n",
            "2250/2250 [==============================] - 0s 206us/sample - loss: 0.0000e+00 - accuracy: 1.0000 - val_loss: 0.0000e+00 - val_accuracy: 1.0000\n",
            "Epoch 461/500\n",
            "2250/2250 [==============================] - 0s 204us/sample - loss: 0.0000e+00 - accuracy: 1.0000 - val_loss: 0.0000e+00 - val_accuracy: 1.0000\n",
            "Epoch 462/500\n",
            "2250/2250 [==============================] - 0s 207us/sample - loss: 0.0000e+00 - accuracy: 1.0000 - val_loss: 0.0000e+00 - val_accuracy: 1.0000\n",
            "Epoch 463/500\n",
            "2250/2250 [==============================] - 0s 211us/sample - loss: 0.0000e+00 - accuracy: 1.0000 - val_loss: 0.0000e+00 - val_accuracy: 1.0000\n",
            "Epoch 464/500\n",
            "2250/2250 [==============================] - 0s 212us/sample - loss: 5.2982e-11 - accuracy: 1.0000 - val_loss: 0.0000e+00 - val_accuracy: 1.0000\n",
            "Epoch 465/500\n",
            "2250/2250 [==============================] - 0s 207us/sample - loss: 0.0000e+00 - accuracy: 1.0000 - val_loss: 0.0000e+00 - val_accuracy: 1.0000\n",
            "Epoch 466/500\n",
            "2250/2250 [==============================] - 0s 210us/sample - loss: 0.1357 - accuracy: 0.9991 - val_loss: 0.0000e+00 - val_accuracy: 1.0000\n",
            "Epoch 467/500\n",
            "2250/2250 [==============================] - 0s 203us/sample - loss: 1.0596e-10 - accuracy: 1.0000 - val_loss: 0.0000e+00 - val_accuracy: 1.0000\n",
            "Epoch 468/500\n",
            "2250/2250 [==============================] - 0s 202us/sample - loss: 0.0000e+00 - accuracy: 1.0000 - val_loss: 0.0000e+00 - val_accuracy: 1.0000\n",
            "Epoch 469/500\n",
            "2250/2250 [==============================] - 0s 209us/sample - loss: 0.0250 - accuracy: 0.9996 - val_loss: 0.0000e+00 - val_accuracy: 1.0000\n",
            "Epoch 470/500\n",
            "2250/2250 [==============================] - 0s 204us/sample - loss: 0.0319 - accuracy: 0.9987 - val_loss: 0.0000e+00 - val_accuracy: 1.0000\n",
            "Epoch 471/500\n",
            "2250/2250 [==============================] - 0s 207us/sample - loss: 0.0316 - accuracy: 0.9996 - val_loss: 0.0000e+00 - val_accuracy: 1.0000\n",
            "Epoch 472/500\n",
            "2250/2250 [==============================] - 0s 206us/sample - loss: 0.0000e+00 - accuracy: 1.0000 - val_loss: 0.0000e+00 - val_accuracy: 1.0000\n",
            "Epoch 473/500\n",
            "2250/2250 [==============================] - 0s 209us/sample - loss: 0.0157 - accuracy: 0.9996 - val_loss: 0.0000e+00 - val_accuracy: 1.0000\n",
            "Epoch 474/500\n",
            "2250/2250 [==============================] - 0s 209us/sample - loss: 0.0000e+00 - accuracy: 1.0000 - val_loss: 0.0000e+00 - val_accuracy: 1.0000\n",
            "Epoch 475/500\n",
            "2250/2250 [==============================] - 0s 206us/sample - loss: 1.7142e-07 - accuracy: 1.0000 - val_loss: 0.0000e+00 - val_accuracy: 1.0000\n",
            "Epoch 476/500\n",
            "2250/2250 [==============================] - 0s 204us/sample - loss: 0.0000e+00 - accuracy: 1.0000 - val_loss: 0.0000e+00 - val_accuracy: 1.0000\n",
            "Epoch 477/500\n",
            "2250/2250 [==============================] - 0s 208us/sample - loss: 0.0558 - accuracy: 0.9991 - val_loss: 0.0000e+00 - val_accuracy: 1.0000\n",
            "Epoch 478/500\n",
            "2250/2250 [==============================] - 0s 207us/sample - loss: 3.3387e-04 - accuracy: 0.9996 - val_loss: 0.0000e+00 - val_accuracy: 1.0000\n",
            "Epoch 479/500\n",
            "2250/2250 [==============================] - 0s 208us/sample - loss: 9.3049e-05 - accuracy: 1.0000 - val_loss: 0.0000e+00 - val_accuracy: 1.0000\n",
            "Epoch 480/500\n",
            "2250/2250 [==============================] - 0s 207us/sample - loss: 0.0036 - accuracy: 0.9991 - val_loss: 0.0000e+00 - val_accuracy: 1.0000\n",
            "Epoch 481/500\n",
            "2250/2250 [==============================] - 0s 213us/sample - loss: 0.0101 - accuracy: 0.9991 - val_loss: 0.0000e+00 - val_accuracy: 1.0000\n",
            "Epoch 482/500\n",
            "2250/2250 [==============================] - 0s 207us/sample - loss: 0.0325 - accuracy: 0.9996 - val_loss: 0.0000e+00 - val_accuracy: 1.0000\n",
            "Epoch 483/500\n",
            "2250/2250 [==============================] - 0s 208us/sample - loss: 0.0112 - accuracy: 0.9996 - val_loss: 0.0000e+00 - val_accuracy: 1.0000\n",
            "Epoch 484/500\n",
            "2250/2250 [==============================] - 0s 209us/sample - loss: 0.0000e+00 - accuracy: 1.0000 - val_loss: 0.0000e+00 - val_accuracy: 1.0000\n",
            "Epoch 485/500\n",
            "2250/2250 [==============================] - 0s 204us/sample - loss: 0.0000e+00 - accuracy: 1.0000 - val_loss: 0.0000e+00 - val_accuracy: 1.0000\n",
            "Epoch 486/500\n",
            "2250/2250 [==============================] - 0s 204us/sample - loss: 0.0000e+00 - accuracy: 1.0000 - val_loss: 0.0000e+00 - val_accuracy: 1.0000\n",
            "Epoch 487/500\n",
            "2250/2250 [==============================] - 0s 206us/sample - loss: 0.0000e+00 - accuracy: 1.0000 - val_loss: 0.0000e+00 - val_accuracy: 1.0000\n",
            "Epoch 488/500\n",
            "2250/2250 [==============================] - 0s 203us/sample - loss: 0.0000e+00 - accuracy: 1.0000 - val_loss: 0.0000e+00 - val_accuracy: 1.0000\n",
            "Epoch 489/500\n",
            "2250/2250 [==============================] - 0s 206us/sample - loss: 0.0017 - accuracy: 0.9996 - val_loss: 0.0000e+00 - val_accuracy: 1.0000\n",
            "Epoch 490/500\n",
            "2250/2250 [==============================] - 0s 205us/sample - loss: 0.0000e+00 - accuracy: 1.0000 - val_loss: 0.0000e+00 - val_accuracy: 1.0000\n",
            "Epoch 491/500\n",
            "2250/2250 [==============================] - 0s 206us/sample - loss: 0.0000e+00 - accuracy: 1.0000 - val_loss: 0.0000e+00 - val_accuracy: 1.0000\n",
            "Epoch 492/500\n",
            "2250/2250 [==============================] - 0s 206us/sample - loss: 0.0000e+00 - accuracy: 1.0000 - val_loss: 0.0000e+00 - val_accuracy: 1.0000\n",
            "Epoch 493/500\n",
            "2250/2250 [==============================] - 0s 207us/sample - loss: 0.0000e+00 - accuracy: 1.0000 - val_loss: 0.0000e+00 - val_accuracy: 1.0000\n",
            "Epoch 494/500\n",
            "2250/2250 [==============================] - 0s 205us/sample - loss: 0.0000e+00 - accuracy: 1.0000 - val_loss: 0.0000e+00 - val_accuracy: 1.0000\n",
            "Epoch 495/500\n",
            "2250/2250 [==============================] - 0s 209us/sample - loss: 0.0000e+00 - accuracy: 1.0000 - val_loss: 0.0000e+00 - val_accuracy: 1.0000\n",
            "Epoch 496/500\n",
            "2250/2250 [==============================] - 0s 210us/sample - loss: 0.0000e+00 - accuracy: 1.0000 - val_loss: 0.0000e+00 - val_accuracy: 1.0000\n",
            "Epoch 497/500\n",
            "2250/2250 [==============================] - 0s 205us/sample - loss: 0.0000e+00 - accuracy: 1.0000 - val_loss: 0.0000e+00 - val_accuracy: 1.0000\n",
            "Epoch 498/500\n",
            "2250/2250 [==============================] - 0s 212us/sample - loss: 0.0000e+00 - accuracy: 1.0000 - val_loss: 0.0000e+00 - val_accuracy: 1.0000\n",
            "Epoch 499/500\n",
            "2250/2250 [==============================] - 0s 208us/sample - loss: 0.0000e+00 - accuracy: 1.0000 - val_loss: 0.0000e+00 - val_accuracy: 1.0000\n",
            "Epoch 500/500\n",
            "2250/2250 [==============================] - 0s 202us/sample - loss: 0.0000e+00 - accuracy: 1.0000 - val_loss: 0.0000e+00 - val_accuracy: 1.0000\n"
          ],
          "name": "stdout"
        }
      ]
    },
    {
      "cell_type": "code",
      "metadata": {
        "id": "4uXiUVcaPnm6",
        "colab_type": "code",
        "colab": {}
      },
      "source": [
        "history_dict = history.history"
      ],
      "execution_count": 0,
      "outputs": []
    },
    {
      "cell_type": "code",
      "metadata": {
        "id": "6Q3K9PgVTKW7",
        "colab_type": "code",
        "outputId": "0d3d1d49-585b-4339-d553-2dd905e8f41e",
        "colab": {
          "base_uri": "https://localhost:8080/",
          "height": 34
        }
      },
      "source": [
        "history_dict.keys()"
      ],
      "execution_count": 0,
      "outputs": [
        {
          "output_type": "execute_result",
          "data": {
            "text/plain": [
              "dict_keys(['loss', 'accuracy', 'val_loss', 'val_accuracy'])"
            ]
          },
          "metadata": {
            "tags": []
          },
          "execution_count": 42
        }
      ]
    },
    {
      "cell_type": "code",
      "metadata": {
        "id": "QycfPrt1Pnjb",
        "colab_type": "code",
        "colab": {}
      },
      "source": [
        "loss = history_dict[\"loss\"]\n",
        "val_loss = history_dict[\"val_loss\"]"
      ],
      "execution_count": 0,
      "outputs": []
    },
    {
      "cell_type": "code",
      "metadata": {
        "id": "IAzSL0anPngY",
        "colab_type": "code",
        "colab": {}
      },
      "source": [
        "acc = history_dict[\"accuracy\"]\n",
        "val_acc = history_dict[\"val_accuracy\"]"
      ],
      "execution_count": 0,
      "outputs": []
    },
    {
      "cell_type": "code",
      "metadata": {
        "id": "DEZvOo-bSv2d",
        "colab_type": "code",
        "colab": {}
      },
      "source": [
        "epochs = np.arange(500)"
      ],
      "execution_count": 0,
      "outputs": []
    },
    {
      "cell_type": "code",
      "metadata": {
        "id": "VzDp0MLQPnIc",
        "colab_type": "code",
        "colab": {}
      },
      "source": [
        "def loss_plot():\n",
        "  plt.plot(epochs, loss, 'b', label = \"Traininig Loss\")\n",
        "  plt.plot(epochs, val_loss, 'bo', label = \"Validation Loss\")\n",
        "  plt.xlabel(\"Epochs\")\n",
        "  plt.ylabel(\"Loss\")\n",
        "  plt.legend()\n",
        "  plt.show()"
      ],
      "execution_count": 0,
      "outputs": []
    },
    {
      "cell_type": "code",
      "metadata": {
        "id": "rUFvU5poT-AZ",
        "colab_type": "code",
        "outputId": "3700914b-0841-43be-97a1-0b1a43f8c9a5",
        "colab": {
          "base_uri": "https://localhost:8080/",
          "height": 279
        }
      },
      "source": [
        "loss_plot()"
      ],
      "execution_count": 0,
      "outputs": [
        {
          "output_type": "display_data",
          "data": {
            "image/png": "[encoded data removed]",
            "text/plain": [
              "<Figure size 432x288 with 1 Axes>"
            ]
          },
          "metadata": {
            "tags": []
          }
        }
      ]
    },
    {
      "cell_type": "code",
      "metadata": {
        "id": "s0QwZGFaT95-",
        "colab_type": "code",
        "colab": {}
      },
      "source": [
        "def acc_plot():\n",
        "  plt.plot(epochs, acc, 'b', label = \"Traininig Accuracy\")\n",
        "  plt.plot(epochs, val_acc, 'bo', label = \"Validation Accuracy\")\n",
        "  plt.xlabel(\"Epochs\")\n",
        "  plt.ylabel(\"Accuracy\")\n",
        "  plt.legend()\n",
        "  plt.show()"
      ],
      "execution_count": 0,
      "outputs": []
    },
    {
      "cell_type": "code",
      "metadata": {
        "id": "LIIGdqWUT9XS",
        "colab_type": "code",
        "outputId": "25c6c0f1-febc-4ef5-a796-872ec169eb25",
        "colab": {
          "base_uri": "https://localhost:8080/",
          "height": 279
        }
      },
      "source": [
        "acc_plot()"
      ],
      "execution_count": 0,
      "outputs": [
        {
          "output_type": "display_data",
          "data": {
            "image/png": "[encoded data removed]",
            "text/plain": [
              "<Figure size 432x288 with 1 Axes>"
            ]
          },
          "metadata": {
            "tags": []
          }
        }
      ]
    },
    {
      "cell_type": "code",
      "metadata": {
        "id": "Wk3lh_m8T9U2",
        "colab_type": "code",
        "colab": {}
      },
      "source": [
        ""
      ],
      "execution_count": 0,
      "outputs": []
    },
    {
      "cell_type": "code",
      "metadata": {
        "id": "SptydHYwT9Ql",
        "colab_type": "code",
        "colab": {}
      },
      "source": [
        ""
      ],
      "execution_count": 0,
      "outputs": []
    },
    {
      "cell_type": "code",
      "metadata": {
        "id": "R7kL5cQ9O9YV",
        "colab_type": "code",
        "colab": {}
      },
      "source": [
        ""
      ],
      "execution_count": 0,
      "outputs": []
    },
    {
      "cell_type": "code",
      "metadata": {
        "id": "1KrWwBmt0yfh",
        "colab_type": "code",
        "colab": {}
      },
      "source": [
        "from tensorflow.keras.preprocessing import image\n",
        "from tqdm import tqdm\n"
      ],
      "execution_count": 0,
      "outputs": []
    },
    {
      "cell_type": "code",
      "metadata": {
        "id": "uJScVGDV0ox2",
        "colab_type": "code",
        "colab": {}
      },
      "source": [
        "from tensorflow.keras.layers import Dense, InputLayer, Dropout, Flatten\n",
        "from tensorflow.keras.layers import Conv2D, MaxPooling2D, GlobalMaxPooling2D"
      ],
      "execution_count": 0,
      "outputs": []
    },
    {
      "cell_type": "code",
      "metadata": {
        "id": "d0sDhWr9O9WW",
        "colab_type": "code",
        "colab": {}
      },
      "source": [
        ""
      ],
      "execution_count": 0,
      "outputs": []
    },
    {
      "cell_type": "code",
      "metadata": {
        "id": "cQuuG_RNO9Qu",
        "colab_type": "code",
        "colab": {}
      },
      "source": [
        ""
      ],
      "execution_count": 0,
      "outputs": []
    },
    {
      "cell_type": "code",
      "metadata": {
        "id": "7C-YdZLZO9LD",
        "colab_type": "code",
        "colab": {}
      },
      "source": [
        ""
      ],
      "execution_count": 0,
      "outputs": []
    },
    {
      "cell_type": "code",
      "metadata": {
        "id": "gNS7Ra8pO9IO",
        "colab_type": "code",
        "colab": {}
      },
      "source": [
        ""
      ],
      "execution_count": 0,
      "outputs": []
    },
    {
      "cell_type": "code",
      "metadata": {
        "id": "BjseJZy8O9EQ",
        "colab_type": "code",
        "colab": {}
      },
      "source": [
        ""
      ],
      "execution_count": 0,
      "outputs": []
    },
    {
      "cell_type": "code",
      "metadata": {
        "id": "koqpwv2-O8-i",
        "colab_type": "code",
        "colab": {}
      },
      "source": [
        ""
      ],
      "execution_count": 0,
      "outputs": []
    },
    {
      "cell_type": "code",
      "metadata": {
        "id": "C0l40evUO86z",
        "colab_type": "code",
        "colab": {}
      },
      "source": [
        ""
      ],
      "execution_count": 0,
      "outputs": []
    },
    {
      "cell_type": "code",
      "metadata": {
        "id": "Kl05aT2KO8z_",
        "colab_type": "code",
        "colab": {}
      },
      "source": [
        ""
      ],
      "execution_count": 0,
      "outputs": []
    },
    {
      "cell_type": "code",
      "metadata": {
        "id": "_lRaMlNhO8vv",
        "colab_type": "code",
        "colab": {}
      },
      "source": [
        ""
      ],
      "execution_count": 0,
      "outputs": []
    }
  ]
}